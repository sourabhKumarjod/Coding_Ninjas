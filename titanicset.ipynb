{
 "cells": [
  {
   "cell_type": "code",
   "execution_count": 1,
   "id": "f29d890d",
   "metadata": {
    "_cell_guid": "b1076dfc-b9ad-4769-8c92-a6c4dae69d19",
    "_uuid": "8f2839f25d086af736a60e9eeb907d3b93b6e0e5",
    "execution": {
     "iopub.execute_input": "2022-05-23T12:42:00.782633Z",
     "iopub.status.busy": "2022-05-23T12:42:00.782282Z",
     "iopub.status.idle": "2022-05-23T12:42:00.797588Z",
     "shell.execute_reply": "2022-05-23T12:42:00.796101Z"
    },
    "papermill": {
     "duration": 0.09628,
     "end_time": "2022-05-23T12:42:00.800151",
     "exception": false,
     "start_time": "2022-05-23T12:42:00.703871",
     "status": "completed"
    },
    "tags": []
   },
   "outputs": [
    {
     "name": "stdout",
     "output_type": "stream",
     "text": [
      "/kaggle/input/titanic/train.csv\n",
      "/kaggle/input/titanic/test.csv\n",
      "/kaggle/input/titanic/gender_submission.csv\n"
     ]
    }
   ],
   "source": [
    "# This Python 3 environment comes with many helpful analytics libraries installed\n",
    "# It is defined by the kaggle/python Docker image: https://github.com/kaggle/docker-python\n",
    "# For example, here's several helpful packages to load\n",
    "\n",
    "import numpy as np # linear algebra\n",
    "import pandas as pd # data processing, CSV file I/O (e.g. pd.read_csv)\n",
    "\n",
    "# Input data files are available in the read-only \"../input/\" directory\n",
    "# For example, running this (by clicking run or pressing Shift+Enter) will list all files under the input directory\n",
    "\n",
    "import os\n",
    "for dirname, _, filenames in os.walk('/kaggle/input'):\n",
    "    for filename in filenames:\n",
    "        print(os.path.join(dirname, filename))\n",
    "\n",
    "# You can write up to 20GB to the current directory (/kaggle/working/) that gets preserved as output when you create a version using \"Save & Run All\" \n",
    "# You can also write temporary files to /kaggle/temp/, but they won't be saved outside of the current session"
   ]
  },
  {
   "cell_type": "code",
   "execution_count": 2,
   "id": "c2e590e2",
   "metadata": {
    "execution": {
     "iopub.execute_input": "2022-05-23T12:42:00.953982Z",
     "iopub.status.busy": "2022-05-23T12:42:00.953669Z",
     "iopub.status.idle": "2022-05-23T12:42:00.959844Z",
     "shell.execute_reply": "2022-05-23T12:42:00.958779Z"
    },
    "papermill": {
     "duration": 0.087593,
     "end_time": "2022-05-23T12:42:00.962060",
     "exception": false,
     "start_time": "2022-05-23T12:42:00.874467",
     "status": "completed"
    },
    "tags": []
   },
   "outputs": [],
   "source": [
    "import os\n",
    "from pathlib import Path\n",
    "\n",
    "iskaggle = os.environ.get('KAGGLE_KERNEL_RUN_TYPE', '')\n",
    "path = Path('../data')\n",
    "\n",
    "if not iskaggle and not path.exists():\n",
    "    import zipfile,kaggle\n",
    "    kaggle.api.competition_download_cli(str(path))\n",
    "    zipfile.ZipFile(f'{path}.zip').extractall(path)"
   ]
  },
  {
   "cell_type": "code",
   "execution_count": 3,
   "id": "0147d300",
   "metadata": {
    "execution": {
     "iopub.execute_input": "2022-05-23T12:42:01.115307Z",
     "iopub.status.busy": "2022-05-23T12:42:01.114977Z",
     "iopub.status.idle": "2022-05-23T12:42:03.175352Z",
     "shell.execute_reply": "2022-05-23T12:42:03.174222Z"
    },
    "papermill": {
     "duration": 2.140271,
     "end_time": "2022-05-23T12:42:03.177939",
     "exception": false,
     "start_time": "2022-05-23T12:42:01.037668",
     "status": "completed"
    },
    "tags": []
   },
   "outputs": [],
   "source": [
    "import torch, numpy as np, pandas as pd\n",
    "np.set_printoptions(linewidth=140)\n",
    "torch.set_printoptions(linewidth=140, sci_mode=False, edgeitems=7)\n",
    "pd.set_option('display.width', 140)"
   ]
  },
  {
   "cell_type": "code",
   "execution_count": 4,
   "id": "0f0724ea",
   "metadata": {
    "execution": {
     "iopub.execute_input": "2022-05-23T12:42:03.327064Z",
     "iopub.status.busy": "2022-05-23T12:42:03.326749Z",
     "iopub.status.idle": "2022-05-23T12:42:03.331673Z",
     "shell.execute_reply": "2022-05-23T12:42:03.330729Z"
    },
    "papermill": {
     "duration": 0.082437,
     "end_time": "2022-05-23T12:42:03.333951",
     "exception": false,
     "start_time": "2022-05-23T12:42:03.251514",
     "status": "completed"
    },
    "tags": []
   },
   "outputs": [],
   "source": [
    "if iskaggle: path = Path('../input/titanic')"
   ]
  },
  {
   "cell_type": "code",
   "execution_count": 5,
   "id": "a7d60f06",
   "metadata": {
    "execution": {
     "iopub.execute_input": "2022-05-23T12:42:03.483307Z",
     "iopub.status.busy": "2022-05-23T12:42:03.483010Z",
     "iopub.status.idle": "2022-05-23T12:42:03.533756Z",
     "shell.execute_reply": "2022-05-23T12:42:03.533064Z"
    },
    "papermill": {
     "duration": 0.12838,
     "end_time": "2022-05-23T12:42:03.536041",
     "exception": false,
     "start_time": "2022-05-23T12:42:03.407661",
     "status": "completed"
    },
    "tags": []
   },
   "outputs": [
    {
     "data": {
      "text/html": [
       "<div>\n",
       "<style scoped>\n",
       "    .dataframe tbody tr th:only-of-type {\n",
       "        vertical-align: middle;\n",
       "    }\n",
       "\n",
       "    .dataframe tbody tr th {\n",
       "        vertical-align: top;\n",
       "    }\n",
       "\n",
       "    .dataframe thead th {\n",
       "        text-align: right;\n",
       "    }\n",
       "</style>\n",
       "<table border=\"1\" class=\"dataframe\">\n",
       "  <thead>\n",
       "    <tr style=\"text-align: right;\">\n",
       "      <th></th>\n",
       "      <th>PassengerId</th>\n",
       "      <th>Survived</th>\n",
       "      <th>Pclass</th>\n",
       "      <th>Name</th>\n",
       "      <th>Sex</th>\n",
       "      <th>Age</th>\n",
       "      <th>SibSp</th>\n",
       "      <th>Parch</th>\n",
       "      <th>Ticket</th>\n",
       "      <th>Fare</th>\n",
       "      <th>Cabin</th>\n",
       "      <th>Embarked</th>\n",
       "    </tr>\n",
       "  </thead>\n",
       "  <tbody>\n",
       "    <tr>\n",
       "      <th>0</th>\n",
       "      <td>1</td>\n",
       "      <td>0</td>\n",
       "      <td>3</td>\n",
       "      <td>Braund, Mr. Owen Harris</td>\n",
       "      <td>male</td>\n",
       "      <td>22.0</td>\n",
       "      <td>1</td>\n",
       "      <td>0</td>\n",
       "      <td>A/5 21171</td>\n",
       "      <td>7.2500</td>\n",
       "      <td>NaN</td>\n",
       "      <td>S</td>\n",
       "    </tr>\n",
       "    <tr>\n",
       "      <th>1</th>\n",
       "      <td>2</td>\n",
       "      <td>1</td>\n",
       "      <td>1</td>\n",
       "      <td>Cumings, Mrs. John Bradley (Florence Briggs Th...</td>\n",
       "      <td>female</td>\n",
       "      <td>38.0</td>\n",
       "      <td>1</td>\n",
       "      <td>0</td>\n",
       "      <td>PC 17599</td>\n",
       "      <td>71.2833</td>\n",
       "      <td>C85</td>\n",
       "      <td>C</td>\n",
       "    </tr>\n",
       "    <tr>\n",
       "      <th>2</th>\n",
       "      <td>3</td>\n",
       "      <td>1</td>\n",
       "      <td>3</td>\n",
       "      <td>Heikkinen, Miss. Laina</td>\n",
       "      <td>female</td>\n",
       "      <td>26.0</td>\n",
       "      <td>0</td>\n",
       "      <td>0</td>\n",
       "      <td>STON/O2. 3101282</td>\n",
       "      <td>7.9250</td>\n",
       "      <td>NaN</td>\n",
       "      <td>S</td>\n",
       "    </tr>\n",
       "    <tr>\n",
       "      <th>3</th>\n",
       "      <td>4</td>\n",
       "      <td>1</td>\n",
       "      <td>1</td>\n",
       "      <td>Futrelle, Mrs. Jacques Heath (Lily May Peel)</td>\n",
       "      <td>female</td>\n",
       "      <td>35.0</td>\n",
       "      <td>1</td>\n",
       "      <td>0</td>\n",
       "      <td>113803</td>\n",
       "      <td>53.1000</td>\n",
       "      <td>C123</td>\n",
       "      <td>S</td>\n",
       "    </tr>\n",
       "    <tr>\n",
       "      <th>4</th>\n",
       "      <td>5</td>\n",
       "      <td>0</td>\n",
       "      <td>3</td>\n",
       "      <td>Allen, Mr. William Henry</td>\n",
       "      <td>male</td>\n",
       "      <td>35.0</td>\n",
       "      <td>0</td>\n",
       "      <td>0</td>\n",
       "      <td>373450</td>\n",
       "      <td>8.0500</td>\n",
       "      <td>NaN</td>\n",
       "      <td>S</td>\n",
       "    </tr>\n",
       "    <tr>\n",
       "      <th>...</th>\n",
       "      <td>...</td>\n",
       "      <td>...</td>\n",
       "      <td>...</td>\n",
       "      <td>...</td>\n",
       "      <td>...</td>\n",
       "      <td>...</td>\n",
       "      <td>...</td>\n",
       "      <td>...</td>\n",
       "      <td>...</td>\n",
       "      <td>...</td>\n",
       "      <td>...</td>\n",
       "      <td>...</td>\n",
       "    </tr>\n",
       "    <tr>\n",
       "      <th>886</th>\n",
       "      <td>887</td>\n",
       "      <td>0</td>\n",
       "      <td>2</td>\n",
       "      <td>Montvila, Rev. Juozas</td>\n",
       "      <td>male</td>\n",
       "      <td>27.0</td>\n",
       "      <td>0</td>\n",
       "      <td>0</td>\n",
       "      <td>211536</td>\n",
       "      <td>13.0000</td>\n",
       "      <td>NaN</td>\n",
       "      <td>S</td>\n",
       "    </tr>\n",
       "    <tr>\n",
       "      <th>887</th>\n",
       "      <td>888</td>\n",
       "      <td>1</td>\n",
       "      <td>1</td>\n",
       "      <td>Graham, Miss. Margaret Edith</td>\n",
       "      <td>female</td>\n",
       "      <td>19.0</td>\n",
       "      <td>0</td>\n",
       "      <td>0</td>\n",
       "      <td>112053</td>\n",
       "      <td>30.0000</td>\n",
       "      <td>B42</td>\n",
       "      <td>S</td>\n",
       "    </tr>\n",
       "    <tr>\n",
       "      <th>888</th>\n",
       "      <td>889</td>\n",
       "      <td>0</td>\n",
       "      <td>3</td>\n",
       "      <td>Johnston, Miss. Catherine Helen \"Carrie\"</td>\n",
       "      <td>female</td>\n",
       "      <td>NaN</td>\n",
       "      <td>1</td>\n",
       "      <td>2</td>\n",
       "      <td>W./C. 6607</td>\n",
       "      <td>23.4500</td>\n",
       "      <td>NaN</td>\n",
       "      <td>S</td>\n",
       "    </tr>\n",
       "    <tr>\n",
       "      <th>889</th>\n",
       "      <td>890</td>\n",
       "      <td>1</td>\n",
       "      <td>1</td>\n",
       "      <td>Behr, Mr. Karl Howell</td>\n",
       "      <td>male</td>\n",
       "      <td>26.0</td>\n",
       "      <td>0</td>\n",
       "      <td>0</td>\n",
       "      <td>111369</td>\n",
       "      <td>30.0000</td>\n",
       "      <td>C148</td>\n",
       "      <td>C</td>\n",
       "    </tr>\n",
       "    <tr>\n",
       "      <th>890</th>\n",
       "      <td>891</td>\n",
       "      <td>0</td>\n",
       "      <td>3</td>\n",
       "      <td>Dooley, Mr. Patrick</td>\n",
       "      <td>male</td>\n",
       "      <td>32.0</td>\n",
       "      <td>0</td>\n",
       "      <td>0</td>\n",
       "      <td>370376</td>\n",
       "      <td>7.7500</td>\n",
       "      <td>NaN</td>\n",
       "      <td>Q</td>\n",
       "    </tr>\n",
       "  </tbody>\n",
       "</table>\n",
       "<p>891 rows × 12 columns</p>\n",
       "</div>"
      ],
      "text/plain": [
       "     PassengerId  Survived  Pclass                                               Name     Sex   Age  SibSp  Parch            Ticket  \\\n",
       "0              1         0       3                            Braund, Mr. Owen Harris    male  22.0      1      0         A/5 21171   \n",
       "1              2         1       1  Cumings, Mrs. John Bradley (Florence Briggs Th...  female  38.0      1      0          PC 17599   \n",
       "2              3         1       3                             Heikkinen, Miss. Laina  female  26.0      0      0  STON/O2. 3101282   \n",
       "3              4         1       1       Futrelle, Mrs. Jacques Heath (Lily May Peel)  female  35.0      1      0            113803   \n",
       "4              5         0       3                           Allen, Mr. William Henry    male  35.0      0      0            373450   \n",
       "..           ...       ...     ...                                                ...     ...   ...    ...    ...               ...   \n",
       "886          887         0       2                              Montvila, Rev. Juozas    male  27.0      0      0            211536   \n",
       "887          888         1       1                       Graham, Miss. Margaret Edith  female  19.0      0      0            112053   \n",
       "888          889         0       3           Johnston, Miss. Catherine Helen \"Carrie\"  female   NaN      1      2        W./C. 6607   \n",
       "889          890         1       1                              Behr, Mr. Karl Howell    male  26.0      0      0            111369   \n",
       "890          891         0       3                                Dooley, Mr. Patrick    male  32.0      0      0            370376   \n",
       "\n",
       "        Fare Cabin Embarked  \n",
       "0     7.2500   NaN        S  \n",
       "1    71.2833   C85        C  \n",
       "2     7.9250   NaN        S  \n",
       "3    53.1000  C123        S  \n",
       "4     8.0500   NaN        S  \n",
       "..       ...   ...      ...  \n",
       "886  13.0000   NaN        S  \n",
       "887  30.0000   B42        S  \n",
       "888  23.4500   NaN        S  \n",
       "889  30.0000  C148        C  \n",
       "890   7.7500   NaN        Q  \n",
       "\n",
       "[891 rows x 12 columns]"
      ]
     },
     "execution_count": 5,
     "metadata": {},
     "output_type": "execute_result"
    }
   ],
   "source": [
    "df = pd.read_csv(path/'train.csv')\n",
    "df"
   ]
  },
  {
   "cell_type": "code",
   "execution_count": 6,
   "id": "2439f896",
   "metadata": {
    "execution": {
     "iopub.execute_input": "2022-05-23T12:42:03.689129Z",
     "iopub.status.busy": "2022-05-23T12:42:03.688812Z",
     "iopub.status.idle": "2022-05-23T12:42:03.697379Z",
     "shell.execute_reply": "2022-05-23T12:42:03.696511Z"
    },
    "papermill": {
     "duration": 0.088529,
     "end_time": "2022-05-23T12:42:03.699624",
     "exception": false,
     "start_time": "2022-05-23T12:42:03.611095",
     "status": "completed"
    },
    "tags": []
   },
   "outputs": [
    {
     "data": {
      "text/plain": [
       "PassengerId      0\n",
       "Survived         0\n",
       "Pclass           0\n",
       "Name             0\n",
       "Sex              0\n",
       "Age            177\n",
       "SibSp            0\n",
       "Parch            0\n",
       "Ticket           0\n",
       "Fare             0\n",
       "Cabin          687\n",
       "Embarked         2\n",
       "dtype: int64"
      ]
     },
     "execution_count": 6,
     "metadata": {},
     "output_type": "execute_result"
    }
   ],
   "source": [
    "df.isna().sum()"
   ]
  },
  {
   "cell_type": "code",
   "execution_count": 7,
   "id": "dec1c5ac",
   "metadata": {
    "execution": {
     "iopub.execute_input": "2022-05-23T12:42:03.853207Z",
     "iopub.status.busy": "2022-05-23T12:42:03.852635Z",
     "iopub.status.idle": "2022-05-23T12:42:03.873799Z",
     "shell.execute_reply": "2022-05-23T12:42:03.873100Z"
    },
    "papermill": {
     "duration": 0.100008,
     "end_time": "2022-05-23T12:42:03.876154",
     "exception": false,
     "start_time": "2022-05-23T12:42:03.776146",
     "status": "completed"
    },
    "tags": []
   },
   "outputs": [
    {
     "data": {
      "text/plain": [
       "PassengerId                      1\n",
       "Survived                       0.0\n",
       "Pclass                         3.0\n",
       "Name           Abbing, Mr. Anthony\n",
       "Sex                           male\n",
       "Age                           24.0\n",
       "SibSp                          0.0\n",
       "Parch                          0.0\n",
       "Ticket                        1601\n",
       "Fare                          8.05\n",
       "Cabin                      B96 B98\n",
       "Embarked                         S\n",
       "Name: 0, dtype: object"
      ]
     },
     "execution_count": 7,
     "metadata": {},
     "output_type": "execute_result"
    }
   ],
   "source": [
    "modes = df.mode().iloc[0]\n",
    "modes"
   ]
  },
  {
   "cell_type": "code",
   "execution_count": 8,
   "id": "ba546e87",
   "metadata": {
    "execution": {
     "iopub.execute_input": "2022-05-23T12:42:04.032227Z",
     "iopub.status.busy": "2022-05-23T12:42:04.031471Z",
     "iopub.status.idle": "2022-05-23T12:42:04.043293Z",
     "shell.execute_reply": "2022-05-23T12:42:04.042404Z"
    },
    "papermill": {
     "duration": 0.092889,
     "end_time": "2022-05-23T12:42:04.045533",
     "exception": false,
     "start_time": "2022-05-23T12:42:03.952644",
     "status": "completed"
    },
    "tags": []
   },
   "outputs": [],
   "source": [
    "df.fillna(modes, inplace=True)"
   ]
  },
  {
   "cell_type": "code",
   "execution_count": 9,
   "id": "1a7f50a2",
   "metadata": {
    "execution": {
     "iopub.execute_input": "2022-05-23T12:42:04.202180Z",
     "iopub.status.busy": "2022-05-23T12:42:04.201630Z",
     "iopub.status.idle": "2022-05-23T12:42:04.210615Z",
     "shell.execute_reply": "2022-05-23T12:42:04.209583Z"
    },
    "papermill": {
     "duration": 0.09059,
     "end_time": "2022-05-23T12:42:04.213067",
     "exception": false,
     "start_time": "2022-05-23T12:42:04.122477",
     "status": "completed"
    },
    "tags": []
   },
   "outputs": [
    {
     "data": {
      "text/plain": [
       "PassengerId    0\n",
       "Survived       0\n",
       "Pclass         0\n",
       "Name           0\n",
       "Sex            0\n",
       "Age            0\n",
       "SibSp          0\n",
       "Parch          0\n",
       "Ticket         0\n",
       "Fare           0\n",
       "Cabin          0\n",
       "Embarked       0\n",
       "dtype: int64"
      ]
     },
     "execution_count": 9,
     "metadata": {},
     "output_type": "execute_result"
    }
   ],
   "source": [
    "df.isna().sum()"
   ]
  },
  {
   "cell_type": "code",
   "execution_count": 10,
   "id": "2706b97e",
   "metadata": {
    "execution": {
     "iopub.execute_input": "2022-05-23T12:42:04.378147Z",
     "iopub.status.busy": "2022-05-23T12:42:04.377400Z",
     "iopub.status.idle": "2022-05-23T12:42:04.421038Z",
     "shell.execute_reply": "2022-05-23T12:42:04.419979Z"
    },
    "papermill": {
     "duration": 0.133289,
     "end_time": "2022-05-23T12:42:04.423571",
     "exception": false,
     "start_time": "2022-05-23T12:42:04.290282",
     "status": "completed"
    },
    "tags": []
   },
   "outputs": [
    {
     "data": {
      "text/html": [
       "<div>\n",
       "<style scoped>\n",
       "    .dataframe tbody tr th:only-of-type {\n",
       "        vertical-align: middle;\n",
       "    }\n",
       "\n",
       "    .dataframe tbody tr th {\n",
       "        vertical-align: top;\n",
       "    }\n",
       "\n",
       "    .dataframe thead th {\n",
       "        text-align: right;\n",
       "    }\n",
       "</style>\n",
       "<table border=\"1\" class=\"dataframe\">\n",
       "  <thead>\n",
       "    <tr style=\"text-align: right;\">\n",
       "      <th></th>\n",
       "      <th>PassengerId</th>\n",
       "      <th>Survived</th>\n",
       "      <th>Pclass</th>\n",
       "      <th>Age</th>\n",
       "      <th>SibSp</th>\n",
       "      <th>Parch</th>\n",
       "      <th>Fare</th>\n",
       "    </tr>\n",
       "  </thead>\n",
       "  <tbody>\n",
       "    <tr>\n",
       "      <th>count</th>\n",
       "      <td>891.000000</td>\n",
       "      <td>891.000000</td>\n",
       "      <td>891.000000</td>\n",
       "      <td>891.000000</td>\n",
       "      <td>891.000000</td>\n",
       "      <td>891.000000</td>\n",
       "      <td>891.000000</td>\n",
       "    </tr>\n",
       "    <tr>\n",
       "      <th>mean</th>\n",
       "      <td>446.000000</td>\n",
       "      <td>0.383838</td>\n",
       "      <td>2.308642</td>\n",
       "      <td>28.566970</td>\n",
       "      <td>0.523008</td>\n",
       "      <td>0.381594</td>\n",
       "      <td>32.204208</td>\n",
       "    </tr>\n",
       "    <tr>\n",
       "      <th>std</th>\n",
       "      <td>257.353842</td>\n",
       "      <td>0.486592</td>\n",
       "      <td>0.836071</td>\n",
       "      <td>13.199572</td>\n",
       "      <td>1.102743</td>\n",
       "      <td>0.806057</td>\n",
       "      <td>49.693429</td>\n",
       "    </tr>\n",
       "    <tr>\n",
       "      <th>min</th>\n",
       "      <td>1.000000</td>\n",
       "      <td>0.000000</td>\n",
       "      <td>1.000000</td>\n",
       "      <td>0.420000</td>\n",
       "      <td>0.000000</td>\n",
       "      <td>0.000000</td>\n",
       "      <td>0.000000</td>\n",
       "    </tr>\n",
       "    <tr>\n",
       "      <th>25%</th>\n",
       "      <td>223.500000</td>\n",
       "      <td>0.000000</td>\n",
       "      <td>2.000000</td>\n",
       "      <td>22.000000</td>\n",
       "      <td>0.000000</td>\n",
       "      <td>0.000000</td>\n",
       "      <td>7.910400</td>\n",
       "    </tr>\n",
       "    <tr>\n",
       "      <th>50%</th>\n",
       "      <td>446.000000</td>\n",
       "      <td>0.000000</td>\n",
       "      <td>3.000000</td>\n",
       "      <td>24.000000</td>\n",
       "      <td>0.000000</td>\n",
       "      <td>0.000000</td>\n",
       "      <td>14.454200</td>\n",
       "    </tr>\n",
       "    <tr>\n",
       "      <th>75%</th>\n",
       "      <td>668.500000</td>\n",
       "      <td>1.000000</td>\n",
       "      <td>3.000000</td>\n",
       "      <td>35.000000</td>\n",
       "      <td>1.000000</td>\n",
       "      <td>0.000000</td>\n",
       "      <td>31.000000</td>\n",
       "    </tr>\n",
       "    <tr>\n",
       "      <th>max</th>\n",
       "      <td>891.000000</td>\n",
       "      <td>1.000000</td>\n",
       "      <td>3.000000</td>\n",
       "      <td>80.000000</td>\n",
       "      <td>8.000000</td>\n",
       "      <td>6.000000</td>\n",
       "      <td>512.329200</td>\n",
       "    </tr>\n",
       "  </tbody>\n",
       "</table>\n",
       "</div>"
      ],
      "text/plain": [
       "       PassengerId    Survived      Pclass         Age       SibSp       Parch        Fare\n",
       "count   891.000000  891.000000  891.000000  891.000000  891.000000  891.000000  891.000000\n",
       "mean    446.000000    0.383838    2.308642   28.566970    0.523008    0.381594   32.204208\n",
       "std     257.353842    0.486592    0.836071   13.199572    1.102743    0.806057   49.693429\n",
       "min       1.000000    0.000000    1.000000    0.420000    0.000000    0.000000    0.000000\n",
       "25%     223.500000    0.000000    2.000000   22.000000    0.000000    0.000000    7.910400\n",
       "50%     446.000000    0.000000    3.000000   24.000000    0.000000    0.000000   14.454200\n",
       "75%     668.500000    1.000000    3.000000   35.000000    1.000000    0.000000   31.000000\n",
       "max     891.000000    1.000000    3.000000   80.000000    8.000000    6.000000  512.329200"
      ]
     },
     "execution_count": 10,
     "metadata": {},
     "output_type": "execute_result"
    }
   ],
   "source": [
    "import numpy as np\n",
    "\n",
    "df.describe(include=(np.number))"
   ]
  },
  {
   "cell_type": "code",
   "execution_count": 11,
   "id": "d28f172c",
   "metadata": {
    "execution": {
     "iopub.execute_input": "2022-05-23T12:42:04.578637Z",
     "iopub.status.busy": "2022-05-23T12:42:04.578298Z",
     "iopub.status.idle": "2022-05-23T12:42:04.795693Z",
     "shell.execute_reply": "2022-05-23T12:42:04.794417Z"
    },
    "papermill": {
     "duration": 0.298114,
     "end_time": "2022-05-23T12:42:04.798382",
     "exception": false,
     "start_time": "2022-05-23T12:42:04.500268",
     "status": "completed"
    },
    "tags": []
   },
   "outputs": [
    {
     "data": {
      "image/png": "[encoded data removed]",
      "text/plain": [
       "<Figure size 432x288 with 1 Axes>"
      ]
     },
     "metadata": {
      "needs_background": "light"
     },
     "output_type": "display_data"
    }
   ],
   "source": [
    "df['Fare'].hist();"
   ]
  },
  {
   "cell_type": "code",
   "execution_count": 12,
   "id": "9256c113",
   "metadata": {
    "execution": {
     "iopub.execute_input": "2022-05-23T12:42:04.964143Z",
     "iopub.status.busy": "2022-05-23T12:42:04.963669Z",
     "iopub.status.idle": "2022-05-23T12:42:04.970597Z",
     "shell.execute_reply": "2022-05-23T12:42:04.969462Z"
    },
    "papermill": {
     "duration": 0.093341,
     "end_time": "2022-05-23T12:42:04.973069",
     "exception": false,
     "start_time": "2022-05-23T12:42:04.879728",
     "status": "completed"
    },
    "tags": []
   },
   "outputs": [],
   "source": [
    "df['LogFare'] = np.log(df['Fare']+1)"
   ]
  },
  {
   "cell_type": "code",
   "execution_count": 13,
   "id": "67e0f73f",
   "metadata": {
    "execution": {
     "iopub.execute_input": "2022-05-23T12:42:05.135710Z",
     "iopub.status.busy": "2022-05-23T12:42:05.134564Z",
     "iopub.status.idle": "2022-05-23T12:42:05.353100Z",
     "shell.execute_reply": "2022-05-23T12:42:05.351957Z"
    },
    "papermill": {
     "duration": 0.301223,
     "end_time": "2022-05-23T12:42:05.355758",
     "exception": false,
     "start_time": "2022-05-23T12:42:05.054535",
     "status": "completed"
    },
    "tags": []
   },
   "outputs": [
    {
     "data": {
      "image/png": "[encoded data removed]",
      "text/plain": [
       "<Figure size 432x288 with 1 Axes>"
      ]
     },
     "metadata": {
      "needs_background": "light"
     },
     "output_type": "display_data"
    }
   ],
   "source": [
    "df['LogFare'].hist();"
   ]
  },
  {
   "cell_type": "code",
   "execution_count": 14,
   "id": "44b81495",
   "metadata": {
    "execution": {
     "iopub.execute_input": "2022-05-23T12:42:05.516985Z",
     "iopub.status.busy": "2022-05-23T12:42:05.516693Z",
     "iopub.status.idle": "2022-05-23T12:42:05.523825Z",
     "shell.execute_reply": "2022-05-23T12:42:05.523178Z"
    },
    "papermill": {
     "duration": 0.088805,
     "end_time": "2022-05-23T12:42:05.526041",
     "exception": false,
     "start_time": "2022-05-23T12:42:05.437236",
     "status": "completed"
    },
    "tags": []
   },
   "outputs": [
    {
     "data": {
      "text/plain": [
       "[1, 2, 3]"
      ]
     },
     "execution_count": 14,
     "metadata": {},
     "output_type": "execute_result"
    }
   ],
   "source": [
    "pclasses = sorted(df.Pclass.unique())\n",
    "pclasses"
   ]
  },
  {
   "cell_type": "code",
   "execution_count": 15,
   "id": "0b8d924c",
   "metadata": {
    "execution": {
     "iopub.execute_input": "2022-05-23T12:42:05.688428Z",
     "iopub.status.busy": "2022-05-23T12:42:05.687906Z",
     "iopub.status.idle": "2022-05-23T12:42:05.709854Z",
     "shell.execute_reply": "2022-05-23T12:42:05.709106Z"
    },
    "papermill": {
     "duration": 0.107608,
     "end_time": "2022-05-23T12:42:05.711958",
     "exception": false,
     "start_time": "2022-05-23T12:42:05.604350",
     "status": "completed"
    },
    "tags": []
   },
   "outputs": [
    {
     "data": {
      "text/html": [
       "<div>\n",
       "<style scoped>\n",
       "    .dataframe tbody tr th:only-of-type {\n",
       "        vertical-align: middle;\n",
       "    }\n",
       "\n",
       "    .dataframe tbody tr th {\n",
       "        vertical-align: top;\n",
       "    }\n",
       "\n",
       "    .dataframe thead th {\n",
       "        text-align: right;\n",
       "    }\n",
       "</style>\n",
       "<table border=\"1\" class=\"dataframe\">\n",
       "  <thead>\n",
       "    <tr style=\"text-align: right;\">\n",
       "      <th></th>\n",
       "      <th>Name</th>\n",
       "      <th>Sex</th>\n",
       "      <th>Ticket</th>\n",
       "      <th>Cabin</th>\n",
       "      <th>Embarked</th>\n",
       "    </tr>\n",
       "  </thead>\n",
       "  <tbody>\n",
       "    <tr>\n",
       "      <th>count</th>\n",
       "      <td>891</td>\n",
       "      <td>891</td>\n",
       "      <td>891</td>\n",
       "      <td>891</td>\n",
       "      <td>891</td>\n",
       "    </tr>\n",
       "    <tr>\n",
       "      <th>unique</th>\n",
       "      <td>891</td>\n",
       "      <td>2</td>\n",
       "      <td>681</td>\n",
       "      <td>147</td>\n",
       "      <td>3</td>\n",
       "    </tr>\n",
       "    <tr>\n",
       "      <th>top</th>\n",
       "      <td>Braund, Mr. Owen Harris</td>\n",
       "      <td>male</td>\n",
       "      <td>347082</td>\n",
       "      <td>B96 B98</td>\n",
       "      <td>S</td>\n",
       "    </tr>\n",
       "    <tr>\n",
       "      <th>freq</th>\n",
       "      <td>1</td>\n",
       "      <td>577</td>\n",
       "      <td>7</td>\n",
       "      <td>691</td>\n",
       "      <td>646</td>\n",
       "    </tr>\n",
       "  </tbody>\n",
       "</table>\n",
       "</div>"
      ],
      "text/plain": [
       "                           Name   Sex  Ticket    Cabin Embarked\n",
       "count                       891   891     891      891      891\n",
       "unique                      891     2     681      147        3\n",
       "top     Braund, Mr. Owen Harris  male  347082  B96 B98        S\n",
       "freq                          1   577       7      691      646"
      ]
     },
     "execution_count": 15,
     "metadata": {},
     "output_type": "execute_result"
    }
   ],
   "source": [
    "df.describe(include=[object])"
   ]
  },
  {
   "cell_type": "code",
   "execution_count": 16,
   "id": "3a55286d",
   "metadata": {
    "execution": {
     "iopub.execute_input": "2022-05-23T12:42:05.874760Z",
     "iopub.status.busy": "2022-05-23T12:42:05.874219Z",
     "iopub.status.idle": "2022-05-23T12:42:05.888673Z",
     "shell.execute_reply": "2022-05-23T12:42:05.888093Z"
    },
    "papermill": {
     "duration": 0.100249,
     "end_time": "2022-05-23T12:42:05.891043",
     "exception": false,
     "start_time": "2022-05-23T12:42:05.790794",
     "status": "completed"
    },
    "tags": []
   },
   "outputs": [
    {
     "data": {
      "text/plain": [
       "Index(['PassengerId', 'Survived', 'Name', 'Age', 'SibSp', 'Parch', 'Ticket', 'Fare', 'Cabin', 'LogFare', 'Sex_female', 'Sex_male',\n",
       "       'Pclass_1', 'Pclass_2', 'Pclass_3', 'Embarked_C', 'Embarked_Q', 'Embarked_S'],\n",
       "      dtype='object')"
      ]
     },
     "execution_count": 16,
     "metadata": {},
     "output_type": "execute_result"
    }
   ],
   "source": [
    "df = pd.get_dummies(df, columns=[\"Sex\",\"Pclass\",\"Embarked\"])\n",
    "df.columns"
   ]
  },
  {
   "cell_type": "code",
   "execution_count": 17,
   "id": "1452ae71",
   "metadata": {
    "execution": {
     "iopub.execute_input": "2022-05-23T12:42:06.062073Z",
     "iopub.status.busy": "2022-05-23T12:42:06.061434Z",
     "iopub.status.idle": "2022-05-23T12:42:06.076923Z",
     "shell.execute_reply": "2022-05-23T12:42:06.075927Z"
    },
    "papermill": {
     "duration": 0.106687,
     "end_time": "2022-05-23T12:42:06.080246",
     "exception": false,
     "start_time": "2022-05-23T12:42:05.973559",
     "status": "completed"
    },
    "tags": []
   },
   "outputs": [
    {
     "data": {
      "text/html": [
       "<div>\n",
       "<style scoped>\n",
       "    .dataframe tbody tr th:only-of-type {\n",
       "        vertical-align: middle;\n",
       "    }\n",
       "\n",
       "    .dataframe tbody tr th {\n",
       "        vertical-align: top;\n",
       "    }\n",
       "\n",
       "    .dataframe thead th {\n",
       "        text-align: right;\n",
       "    }\n",
       "</style>\n",
       "<table border=\"1\" class=\"dataframe\">\n",
       "  <thead>\n",
       "    <tr style=\"text-align: right;\">\n",
       "      <th></th>\n",
       "      <th>Sex_male</th>\n",
       "      <th>Sex_female</th>\n",
       "      <th>Pclass_1</th>\n",
       "      <th>Pclass_2</th>\n",
       "      <th>Pclass_3</th>\n",
       "      <th>Embarked_C</th>\n",
       "      <th>Embarked_Q</th>\n",
       "      <th>Embarked_S</th>\n",
       "    </tr>\n",
       "  </thead>\n",
       "  <tbody>\n",
       "    <tr>\n",
       "      <th>0</th>\n",
       "      <td>1</td>\n",
       "      <td>0</td>\n",
       "      <td>0</td>\n",
       "      <td>0</td>\n",
       "      <td>1</td>\n",
       "      <td>0</td>\n",
       "      <td>0</td>\n",
       "      <td>1</td>\n",
       "    </tr>\n",
       "    <tr>\n",
       "      <th>1</th>\n",
       "      <td>0</td>\n",
       "      <td>1</td>\n",
       "      <td>1</td>\n",
       "      <td>0</td>\n",
       "      <td>0</td>\n",
       "      <td>1</td>\n",
       "      <td>0</td>\n",
       "      <td>0</td>\n",
       "    </tr>\n",
       "    <tr>\n",
       "      <th>2</th>\n",
       "      <td>0</td>\n",
       "      <td>1</td>\n",
       "      <td>0</td>\n",
       "      <td>0</td>\n",
       "      <td>1</td>\n",
       "      <td>0</td>\n",
       "      <td>0</td>\n",
       "      <td>1</td>\n",
       "    </tr>\n",
       "    <tr>\n",
       "      <th>3</th>\n",
       "      <td>0</td>\n",
       "      <td>1</td>\n",
       "      <td>1</td>\n",
       "      <td>0</td>\n",
       "      <td>0</td>\n",
       "      <td>0</td>\n",
       "      <td>0</td>\n",
       "      <td>1</td>\n",
       "    </tr>\n",
       "    <tr>\n",
       "      <th>4</th>\n",
       "      <td>1</td>\n",
       "      <td>0</td>\n",
       "      <td>0</td>\n",
       "      <td>0</td>\n",
       "      <td>1</td>\n",
       "      <td>0</td>\n",
       "      <td>0</td>\n",
       "      <td>1</td>\n",
       "    </tr>\n",
       "  </tbody>\n",
       "</table>\n",
       "</div>"
      ],
      "text/plain": [
       "   Sex_male  Sex_female  Pclass_1  Pclass_2  Pclass_3  Embarked_C  Embarked_Q  Embarked_S\n",
       "0         1           0         0         0         1           0           0           1\n",
       "1         0           1         1         0         0           1           0           0\n",
       "2         0           1         0         0         1           0           0           1\n",
       "3         0           1         1         0         0           0           0           1\n",
       "4         1           0         0         0         1           0           0           1"
      ]
     },
     "execution_count": 17,
     "metadata": {},
     "output_type": "execute_result"
    }
   ],
   "source": [
    "added_cols = ['Sex_male', 'Sex_female', 'Pclass_1', 'Pclass_2', 'Pclass_3', 'Embarked_C', 'Embarked_Q', 'Embarked_S']\n",
    "df[added_cols].head()"
   ]
  },
  {
   "cell_type": "code",
   "execution_count": 18,
   "id": "1c72bfcd",
   "metadata": {
    "execution": {
     "iopub.execute_input": "2022-05-23T12:42:06.250040Z",
     "iopub.status.busy": "2022-05-23T12:42:06.249397Z",
     "iopub.status.idle": "2022-05-23T12:42:06.258413Z",
     "shell.execute_reply": "2022-05-23T12:42:06.257432Z"
    },
    "papermill": {
     "duration": 0.096404,
     "end_time": "2022-05-23T12:42:06.260813",
     "exception": false,
     "start_time": "2022-05-23T12:42:06.164409",
     "status": "completed"
    },
    "tags": []
   },
   "outputs": [],
   "source": [
    "from torch import tensor\n",
    "\n",
    "t_dep = tensor(df.Survived)"
   ]
  },
  {
   "cell_type": "code",
   "execution_count": 19,
   "id": "213e2fe8",
   "metadata": {
    "execution": {
     "iopub.execute_input": "2022-05-23T12:42:06.431385Z",
     "iopub.status.busy": "2022-05-23T12:42:06.430893Z",
     "iopub.status.idle": "2022-05-23T12:42:06.443773Z",
     "shell.execute_reply": "2022-05-23T12:42:06.443122Z"
    },
    "papermill": {
     "duration": 0.099857,
     "end_time": "2022-05-23T12:42:06.446122",
     "exception": false,
     "start_time": "2022-05-23T12:42:06.346265",
     "status": "completed"
    },
    "tags": []
   },
   "outputs": [
    {
     "data": {
      "text/plain": [
       "tensor([[22.0000,  1.0000,  0.0000,  2.1102,  1.0000,  0.0000,  0.0000,  0.0000,  1.0000,  0.0000,  0.0000,  1.0000],\n",
       "        [38.0000,  1.0000,  0.0000,  4.2806,  0.0000,  1.0000,  1.0000,  0.0000,  0.0000,  1.0000,  0.0000,  0.0000],\n",
       "        [26.0000,  0.0000,  0.0000,  2.1889,  0.0000,  1.0000,  0.0000,  0.0000,  1.0000,  0.0000,  0.0000,  1.0000],\n",
       "        [35.0000,  1.0000,  0.0000,  3.9908,  0.0000,  1.0000,  1.0000,  0.0000,  0.0000,  0.0000,  0.0000,  1.0000],\n",
       "        [35.0000,  0.0000,  0.0000,  2.2028,  1.0000,  0.0000,  0.0000,  0.0000,  1.0000,  0.0000,  0.0000,  1.0000],\n",
       "        [24.0000,  0.0000,  0.0000,  2.2469,  1.0000,  0.0000,  0.0000,  0.0000,  1.0000,  0.0000,  1.0000,  0.0000],\n",
       "        [54.0000,  0.0000,  0.0000,  3.9677,  1.0000,  0.0000,  1.0000,  0.0000,  0.0000,  0.0000,  0.0000,  1.0000],\n",
       "        ...,\n",
       "        [25.0000,  0.0000,  0.0000,  2.0857,  1.0000,  0.0000,  0.0000,  0.0000,  1.0000,  0.0000,  0.0000,  1.0000],\n",
       "        [39.0000,  0.0000,  5.0000,  3.4054,  0.0000,  1.0000,  0.0000,  0.0000,  1.0000,  0.0000,  1.0000,  0.0000],\n",
       "        [27.0000,  0.0000,  0.0000,  2.6391,  1.0000,  0.0000,  0.0000,  1.0000,  0.0000,  0.0000,  0.0000,  1.0000],\n",
       "        [19.0000,  0.0000,  0.0000,  3.4340,  0.0000,  1.0000,  1.0000,  0.0000,  0.0000,  0.0000,  0.0000,  1.0000],\n",
       "        [24.0000,  1.0000,  2.0000,  3.1966,  0.0000,  1.0000,  0.0000,  0.0000,  1.0000,  0.0000,  0.0000,  1.0000],\n",
       "        [26.0000,  0.0000,  0.0000,  3.4340,  1.0000,  0.0000,  1.0000,  0.0000,  0.0000,  1.0000,  0.0000,  0.0000],\n",
       "        [32.0000,  0.0000,  0.0000,  2.1691,  1.0000,  0.0000,  0.0000,  0.0000,  1.0000,  0.0000,  1.0000,  0.0000]])"
      ]
     },
     "execution_count": 19,
     "metadata": {},
     "output_type": "execute_result"
    }
   ],
   "source": [
    "indep_cols = ['Age', 'SibSp', 'Parch', 'LogFare'] + added_cols\n",
    "\n",
    "t_indep = tensor(df[indep_cols].values, dtype=torch.float)\n",
    "t_indep"
   ]
  },
  {
   "cell_type": "code",
   "execution_count": 20,
   "id": "7519d8c6",
   "metadata": {
    "execution": {
     "iopub.execute_input": "2022-05-23T12:42:06.615958Z",
     "iopub.status.busy": "2022-05-23T12:42:06.615488Z",
     "iopub.status.idle": "2022-05-23T12:42:06.621411Z",
     "shell.execute_reply": "2022-05-23T12:42:06.620440Z"
    },
    "papermill": {
     "duration": 0.093608,
     "end_time": "2022-05-23T12:42:06.623842",
     "exception": false,
     "start_time": "2022-05-23T12:42:06.530234",
     "status": "completed"
    },
    "tags": []
   },
   "outputs": [
    {
     "data": {
      "text/plain": [
       "torch.Size([891, 12])"
      ]
     },
     "execution_count": 20,
     "metadata": {},
     "output_type": "execute_result"
    }
   ],
   "source": [
    "t_indep.shape"
   ]
  },
  {
   "cell_type": "code",
   "execution_count": 21,
   "id": "28a26373",
   "metadata": {
    "execution": {
     "iopub.execute_input": "2022-05-23T12:42:06.791301Z",
     "iopub.status.busy": "2022-05-23T12:42:06.790991Z",
     "iopub.status.idle": "2022-05-23T12:42:06.805733Z",
     "shell.execute_reply": "2022-05-23T12:42:06.804834Z"
    },
    "papermill": {
     "duration": 0.101379,
     "end_time": "2022-05-23T12:42:06.807975",
     "exception": false,
     "start_time": "2022-05-23T12:42:06.706596",
     "status": "completed"
    },
    "tags": []
   },
   "outputs": [
    {
     "data": {
      "text/plain": [
       "tensor([-0.4629,  0.1386,  0.2409, -0.2262, -0.2632, -0.3147,  0.4876,  0.3136,  0.2799, -0.4392,  0.2103,  0.3625])"
      ]
     },
     "execution_count": 21,
     "metadata": {},
     "output_type": "execute_result"
    }
   ],
   "source": [
    "torch.manual_seed(442)\n",
    "\n",
    "n_coeff = t_indep.shape[1]\n",
    "coeffs = torch.rand(n_coeff)-0.5\n",
    "coeffs"
   ]
  },
  {
   "cell_type": "code",
   "execution_count": 22,
   "id": "80d20a7c",
   "metadata": {
    "execution": {
     "iopub.execute_input": "2022-05-23T12:42:06.976087Z",
     "iopub.status.busy": "2022-05-23T12:42:06.974779Z",
     "iopub.status.idle": "2022-05-23T12:42:06.984470Z",
     "shell.execute_reply": "2022-05-23T12:42:06.982980Z"
    },
    "papermill": {
     "duration": 0.09626,
     "end_time": "2022-05-23T12:42:06.986990",
     "exception": false,
     "start_time": "2022-05-23T12:42:06.890730",
     "status": "completed"
    },
    "tags": []
   },
   "outputs": [
    {
     "data": {
      "text/plain": [
       "tensor([[-10.1838,   0.1386,   0.0000,  -0.4772,  -0.2632,  -0.0000,   0.0000,   0.0000,   0.2799,  -0.0000,   0.0000,   0.3625],\n",
       "        [-17.5902,   0.1386,   0.0000,  -0.9681,  -0.0000,  -0.3147,   0.4876,   0.0000,   0.0000,  -0.4392,   0.0000,   0.0000],\n",
       "        [-12.0354,   0.0000,   0.0000,  -0.4950,  -0.0000,  -0.3147,   0.0000,   0.0000,   0.2799,  -0.0000,   0.0000,   0.3625],\n",
       "        [-16.2015,   0.1386,   0.0000,  -0.9025,  -0.0000,  -0.3147,   0.4876,   0.0000,   0.0000,  -0.0000,   0.0000,   0.3625],\n",
       "        [-16.2015,   0.0000,   0.0000,  -0.4982,  -0.2632,  -0.0000,   0.0000,   0.0000,   0.2799,  -0.0000,   0.0000,   0.3625],\n",
       "        [-11.1096,   0.0000,   0.0000,  -0.5081,  -0.2632,  -0.0000,   0.0000,   0.0000,   0.2799,  -0.0000,   0.2103,   0.0000],\n",
       "        [-24.9966,   0.0000,   0.0000,  -0.8973,  -0.2632,  -0.0000,   0.4876,   0.0000,   0.0000,  -0.0000,   0.0000,   0.3625],\n",
       "        ...,\n",
       "        [-11.5725,   0.0000,   0.0000,  -0.4717,  -0.2632,  -0.0000,   0.0000,   0.0000,   0.2799,  -0.0000,   0.0000,   0.3625],\n",
       "        [-18.0531,   0.0000,   1.2045,  -0.7701,  -0.0000,  -0.3147,   0.0000,   0.0000,   0.2799,  -0.0000,   0.2103,   0.0000],\n",
       "        [-12.4983,   0.0000,   0.0000,  -0.5968,  -0.2632,  -0.0000,   0.0000,   0.3136,   0.0000,  -0.0000,   0.0000,   0.3625],\n",
       "        [ -8.7951,   0.0000,   0.0000,  -0.7766,  -0.0000,  -0.3147,   0.4876,   0.0000,   0.0000,  -0.0000,   0.0000,   0.3625],\n",
       "        [-11.1096,   0.1386,   0.4818,  -0.7229,  -0.0000,  -0.3147,   0.0000,   0.0000,   0.2799,  -0.0000,   0.0000,   0.3625],\n",
       "        [-12.0354,   0.0000,   0.0000,  -0.7766,  -0.2632,  -0.0000,   0.4876,   0.0000,   0.0000,  -0.4392,   0.0000,   0.0000],\n",
       "        [-14.8128,   0.0000,   0.0000,  -0.4905,  -0.2632,  -0.0000,   0.0000,   0.0000,   0.2799,  -0.0000,   0.2103,   0.0000]])"
      ]
     },
     "execution_count": 22,
     "metadata": {},
     "output_type": "execute_result"
    }
   ],
   "source": [
    "t_indep*coeffs"
   ]
  },
  {
   "cell_type": "code",
   "execution_count": 23,
   "id": "a06a99cb",
   "metadata": {
    "execution": {
     "iopub.execute_input": "2022-05-23T12:42:07.151756Z",
     "iopub.status.busy": "2022-05-23T12:42:07.151200Z",
     "iopub.status.idle": "2022-05-23T12:42:07.159436Z",
     "shell.execute_reply": "2022-05-23T12:42:07.158600Z"
    },
    "papermill": {
     "duration": 0.093105,
     "end_time": "2022-05-23T12:42:07.161898",
     "exception": false,
     "start_time": "2022-05-23T12:42:07.068793",
     "status": "completed"
    },
    "tags": []
   },
   "outputs": [],
   "source": [
    "vals,indices = t_indep.max(dim=0)\n",
    "t_indep = t_indep / vals"
   ]
  },
  {
   "cell_type": "code",
   "execution_count": 24,
   "id": "144a2b6d",
   "metadata": {
    "execution": {
     "iopub.execute_input": "2022-05-23T12:42:07.334517Z",
     "iopub.status.busy": "2022-05-23T12:42:07.334209Z",
     "iopub.status.idle": "2022-05-23T12:42:07.342050Z",
     "shell.execute_reply": "2022-05-23T12:42:07.341080Z"
    },
    "papermill": {
     "duration": 0.094548,
     "end_time": "2022-05-23T12:42:07.344303",
     "exception": false,
     "start_time": "2022-05-23T12:42:07.249755",
     "status": "completed"
    },
    "tags": []
   },
   "outputs": [
    {
     "data": {
      "text/plain": [
       "tensor([[-0.1273,  0.0173,  0.0000, -0.0765, -0.2632, -0.0000,  0.0000,  0.0000,  0.2799, -0.0000,  0.0000,  0.3625],\n",
       "        [-0.2199,  0.0173,  0.0000, -0.1551, -0.0000, -0.3147,  0.4876,  0.0000,  0.0000, -0.4392,  0.0000,  0.0000],\n",
       "        [-0.1504,  0.0000,  0.0000, -0.0793, -0.0000, -0.3147,  0.0000,  0.0000,  0.2799, -0.0000,  0.0000,  0.3625],\n",
       "        [-0.2025,  0.0173,  0.0000, -0.1446, -0.0000, -0.3147,  0.4876,  0.0000,  0.0000, -0.0000,  0.0000,  0.3625],\n",
       "        [-0.2025,  0.0000,  0.0000, -0.0798, -0.2632, -0.0000,  0.0000,  0.0000,  0.2799, -0.0000,  0.0000,  0.3625],\n",
       "        [-0.1389,  0.0000,  0.0000, -0.0814, -0.2632, -0.0000,  0.0000,  0.0000,  0.2799, -0.0000,  0.2103,  0.0000],\n",
       "        [-0.3125,  0.0000,  0.0000, -0.1438, -0.2632, -0.0000,  0.4876,  0.0000,  0.0000, -0.0000,  0.0000,  0.3625],\n",
       "        ...,\n",
       "        [-0.1447,  0.0000,  0.0000, -0.0756, -0.2632, -0.0000,  0.0000,  0.0000,  0.2799, -0.0000,  0.0000,  0.3625],\n",
       "        [-0.2257,  0.0000,  0.2008, -0.1234, -0.0000, -0.3147,  0.0000,  0.0000,  0.2799, -0.0000,  0.2103,  0.0000],\n",
       "        [-0.1562,  0.0000,  0.0000, -0.0956, -0.2632, -0.0000,  0.0000,  0.3136,  0.0000, -0.0000,  0.0000,  0.3625],\n",
       "        [-0.1099,  0.0000,  0.0000, -0.1244, -0.0000, -0.3147,  0.4876,  0.0000,  0.0000, -0.0000,  0.0000,  0.3625],\n",
       "        [-0.1389,  0.0173,  0.0803, -0.1158, -0.0000, -0.3147,  0.0000,  0.0000,  0.2799, -0.0000,  0.0000,  0.3625],\n",
       "        [-0.1504,  0.0000,  0.0000, -0.1244, -0.2632, -0.0000,  0.4876,  0.0000,  0.0000, -0.4392,  0.0000,  0.0000],\n",
       "        [-0.1852,  0.0000,  0.0000, -0.0786, -0.2632, -0.0000,  0.0000,  0.0000,  0.2799, -0.0000,  0.2103,  0.0000]])"
      ]
     },
     "execution_count": 24,
     "metadata": {},
     "output_type": "execute_result"
    }
   ],
   "source": [
    "t_indep*coeffs"
   ]
  },
  {
   "cell_type": "code",
   "execution_count": 25,
   "id": "0a85e9ca",
   "metadata": {
    "execution": {
     "iopub.execute_input": "2022-05-23T12:42:07.509531Z",
     "iopub.status.busy": "2022-05-23T12:42:07.509236Z",
     "iopub.status.idle": "2022-05-23T12:42:07.514216Z",
     "shell.execute_reply": "2022-05-23T12:42:07.513040Z"
    },
    "papermill": {
     "duration": 0.090611,
     "end_time": "2022-05-23T12:42:07.516511",
     "exception": false,
     "start_time": "2022-05-23T12:42:07.425900",
     "status": "completed"
    },
    "tags": []
   },
   "outputs": [],
   "source": [
    "t_indep = t_indep / vals"
   ]
  },
  {
   "cell_type": "code",
   "execution_count": 26,
   "id": "05ae7c66",
   "metadata": {
    "execution": {
     "iopub.execute_input": "2022-05-23T12:42:07.683541Z",
     "iopub.status.busy": "2022-05-23T12:42:07.683254Z",
     "iopub.status.idle": "2022-05-23T12:42:07.688533Z",
     "shell.execute_reply": "2022-05-23T12:42:07.687416Z"
    },
    "papermill": {
     "duration": 0.092612,
     "end_time": "2022-05-23T12:42:07.690601",
     "exception": false,
     "start_time": "2022-05-23T12:42:07.597989",
     "status": "completed"
    },
    "tags": []
   },
   "outputs": [],
   "source": [
    "preds = (t_indep*coeffs).sum(axis=1)"
   ]
  },
  {
   "cell_type": "code",
   "execution_count": 27,
   "id": "95f4db8c",
   "metadata": {
    "execution": {
     "iopub.execute_input": "2022-05-23T12:42:07.863227Z",
     "iopub.status.busy": "2022-05-23T12:42:07.862898Z",
     "iopub.status.idle": "2022-05-23T12:42:07.869526Z",
     "shell.execute_reply": "2022-05-23T12:42:07.868869Z"
    },
    "papermill": {
     "duration": 0.092415,
     "end_time": "2022-05-23T12:42:07.871434",
     "exception": false,
     "start_time": "2022-05-23T12:42:07.779019",
     "status": "completed"
    },
    "tags": []
   },
   "outputs": [
    {
     "data": {
      "text/plain": [
       "tensor([ 0.3675, -0.2917,  0.3131,  0.5119,  0.3638,  0.2121,  0.5599,  0.3742,  0.3246, -0.4591])"
      ]
     },
     "execution_count": 27,
     "metadata": {},
     "output_type": "execute_result"
    }
   ],
   "source": [
    "preds[:10]"
   ]
  },
  {
   "cell_type": "code",
   "execution_count": 28,
   "id": "76e162be",
   "metadata": {
    "execution": {
     "iopub.execute_input": "2022-05-23T12:42:08.046352Z",
     "iopub.status.busy": "2022-05-23T12:42:08.045899Z",
     "iopub.status.idle": "2022-05-23T12:42:08.054507Z",
     "shell.execute_reply": "2022-05-23T12:42:08.053832Z"
    },
    "papermill": {
     "duration": 0.098701,
     "end_time": "2022-05-23T12:42:08.056482",
     "exception": false,
     "start_time": "2022-05-23T12:42:07.957781",
     "status": "completed"
    },
    "tags": []
   },
   "outputs": [
    {
     "data": {
      "text/plain": [
       "tensor(0.5415)"
      ]
     },
     "execution_count": 28,
     "metadata": {},
     "output_type": "execute_result"
    }
   ],
   "source": [
    "loss = torch.abs(preds-t_dep).mean()\n",
    "loss"
   ]
  },
  {
   "cell_type": "code",
   "execution_count": 29,
   "id": "34d40a69",
   "metadata": {
    "execution": {
     "iopub.execute_input": "2022-05-23T12:42:08.232851Z",
     "iopub.status.busy": "2022-05-23T12:42:08.232409Z",
     "iopub.status.idle": "2022-05-23T12:42:08.237884Z",
     "shell.execute_reply": "2022-05-23T12:42:08.236949Z"
    },
    "papermill": {
     "duration": 0.096573,
     "end_time": "2022-05-23T12:42:08.240248",
     "exception": false,
     "start_time": "2022-05-23T12:42:08.143675",
     "status": "completed"
    },
    "tags": []
   },
   "outputs": [],
   "source": [
    "def calc_preds(coeffs, indeps): return (indeps*coeffs).sum(axis=1)\n",
    "def calc_loss(coeffs, indeps, deps): return torch.abs(calc_preds(coeffs, indeps)-deps).mean()"
   ]
  },
  {
   "cell_type": "code",
   "execution_count": 30,
   "id": "b4f22e98",
   "metadata": {
    "execution": {
     "iopub.execute_input": "2022-05-23T12:42:08.413087Z",
     "iopub.status.busy": "2022-05-23T12:42:08.412596Z",
     "iopub.status.idle": "2022-05-23T12:42:08.421023Z",
     "shell.execute_reply": "2022-05-23T12:42:08.420072Z"
    },
    "papermill": {
     "duration": 0.098514,
     "end_time": "2022-05-23T12:42:08.423394",
     "exception": false,
     "start_time": "2022-05-23T12:42:08.324880",
     "status": "completed"
    },
    "tags": []
   },
   "outputs": [
    {
     "data": {
      "text/plain": [
       "tensor([-0.4629,  0.1386,  0.2409, -0.2262, -0.2632, -0.3147,  0.4876,  0.3136,  0.2799, -0.4392,  0.2103,  0.3625], requires_grad=True)"
      ]
     },
     "execution_count": 30,
     "metadata": {},
     "output_type": "execute_result"
    }
   ],
   "source": [
    "coeffs.requires_grad_()"
   ]
  },
  {
   "cell_type": "code",
   "execution_count": 31,
   "id": "178e1dbf",
   "metadata": {
    "execution": {
     "iopub.execute_input": "2022-05-23T12:42:08.592286Z",
     "iopub.status.busy": "2022-05-23T12:42:08.591576Z",
     "iopub.status.idle": "2022-05-23T12:42:08.600178Z",
     "shell.execute_reply": "2022-05-23T12:42:08.599408Z"
    },
    "papermill": {
     "duration": 0.095464,
     "end_time": "2022-05-23T12:42:08.602454",
     "exception": false,
     "start_time": "2022-05-23T12:42:08.506990",
     "status": "completed"
    },
    "tags": []
   },
   "outputs": [
    {
     "data": {
      "text/plain": [
       "tensor(0.5415, grad_fn=<MeanBackward0>)"
      ]
     },
     "execution_count": 31,
     "metadata": {},
     "output_type": "execute_result"
    }
   ],
   "source": [
    "loss = calc_loss(coeffs, t_indep, t_dep)\n",
    "loss"
   ]
  },
  {
   "cell_type": "code",
   "execution_count": 32,
   "id": "844a03fa",
   "metadata": {
    "execution": {
     "iopub.execute_input": "2022-05-23T12:42:08.777781Z",
     "iopub.status.busy": "2022-05-23T12:42:08.777273Z",
     "iopub.status.idle": "2022-05-23T12:42:08.797638Z",
     "shell.execute_reply": "2022-05-23T12:42:08.796867Z"
    },
    "papermill": {
     "duration": 0.110325,
     "end_time": "2022-05-23T12:42:08.799964",
     "exception": false,
     "start_time": "2022-05-23T12:42:08.689639",
     "status": "completed"
    },
    "tags": []
   },
   "outputs": [],
   "source": [
    "loss.backward()"
   ]
  },
  {
   "cell_type": "code",
   "execution_count": 33,
   "id": "9aa0d6b6",
   "metadata": {
    "execution": {
     "iopub.execute_input": "2022-05-23T12:42:08.975837Z",
     "iopub.status.busy": "2022-05-23T12:42:08.975296Z",
     "iopub.status.idle": "2022-05-23T12:42:08.981045Z",
     "shell.execute_reply": "2022-05-23T12:42:08.980389Z"
    },
    "papermill": {
     "duration": 0.098839,
     "end_time": "2022-05-23T12:42:08.983350",
     "exception": false,
     "start_time": "2022-05-23T12:42:08.884511",
     "status": "completed"
    },
    "tags": []
   },
   "outputs": [
    {
     "data": {
      "text/plain": [
       "tensor([ 0.0003,  0.0018, -0.0005, -0.0034,  0.2548, -0.1908, -0.1212, -0.0067,  0.1919, -0.1886,  0.0191,  0.2334])"
      ]
     },
     "execution_count": 33,
     "metadata": {},
     "output_type": "execute_result"
    }
   ],
   "source": [
    "coeffs.grad"
   ]
  },
  {
   "cell_type": "code",
   "execution_count": 34,
   "id": "2b2dac81",
   "metadata": {
    "execution": {
     "iopub.execute_input": "2022-05-23T12:42:09.179629Z",
     "iopub.status.busy": "2022-05-23T12:42:09.178889Z",
     "iopub.status.idle": "2022-05-23T12:42:09.188451Z",
     "shell.execute_reply": "2022-05-23T12:42:09.186795Z"
    },
    "papermill": {
     "duration": 0.120646,
     "end_time": "2022-05-23T12:42:09.190965",
     "exception": false,
     "start_time": "2022-05-23T12:42:09.070319",
     "status": "completed"
    },
    "tags": []
   },
   "outputs": [
    {
     "name": "stdout",
     "output_type": "stream",
     "text": [
      "tensor(0.5172)\n"
     ]
    }
   ],
   "source": [
    "with torch.no_grad():\n",
    "    coeffs.sub_(coeffs.grad * 0.1)\n",
    "    print(calc_loss(coeffs, t_indep, t_dep))"
   ]
  },
  {
   "cell_type": "code",
   "execution_count": 35,
   "id": "5044f9a6",
   "metadata": {
    "execution": {
     "iopub.execute_input": "2022-05-23T12:42:09.369967Z",
     "iopub.status.busy": "2022-05-23T12:42:09.369464Z",
     "iopub.status.idle": "2022-05-23T12:42:10.812561Z",
     "shell.execute_reply": "2022-05-23T12:42:10.811467Z"
    },
    "papermill": {
     "duration": 1.53545,
     "end_time": "2022-05-23T12:42:10.815645",
     "exception": false,
     "start_time": "2022-05-23T12:42:09.280195",
     "status": "completed"
    },
    "tags": []
   },
   "outputs": [],
   "source": [
    "from fastai.data.transforms import RandomSplitter\n",
    "trn_split,val_split=RandomSplitter(seed=42)(df)"
   ]
  },
  {
   "cell_type": "code",
   "execution_count": 36,
   "id": "1680dd39",
   "metadata": {
    "execution": {
     "iopub.execute_input": "2022-05-23T12:42:10.994146Z",
     "iopub.status.busy": "2022-05-23T12:42:10.993300Z",
     "iopub.status.idle": "2022-05-23T12:42:11.009934Z",
     "shell.execute_reply": "2022-05-23T12:42:11.009200Z"
    },
    "papermill": {
     "duration": 0.110046,
     "end_time": "2022-05-23T12:42:11.012487",
     "exception": false,
     "start_time": "2022-05-23T12:42:10.902441",
     "status": "completed"
    },
    "tags": []
   },
   "outputs": [
    {
     "data": {
      "text/plain": [
       "(713, 178)"
      ]
     },
     "execution_count": 36,
     "metadata": {},
     "output_type": "execute_result"
    }
   ],
   "source": [
    "trn_indep,val_indep = t_indep[trn_split],t_indep[val_split]\n",
    "trn_dep,val_dep = t_dep[trn_split],t_dep[val_split]\n",
    "len(trn_indep),len(val_indep)"
   ]
  },
  {
   "cell_type": "code",
   "execution_count": 37,
   "id": "12a1138f",
   "metadata": {
    "execution": {
     "iopub.execute_input": "2022-05-23T12:42:11.185887Z",
     "iopub.status.busy": "2022-05-23T12:42:11.185587Z",
     "iopub.status.idle": "2022-05-23T12:42:11.190617Z",
     "shell.execute_reply": "2022-05-23T12:42:11.189644Z"
    },
    "papermill": {
     "duration": 0.094207,
     "end_time": "2022-05-23T12:42:11.192912",
     "exception": false,
     "start_time": "2022-05-23T12:42:11.098705",
     "status": "completed"
    },
    "tags": []
   },
   "outputs": [],
   "source": [
    "def update_coeffs(coeffs, lr): coeffs.sub_(coeffs.grad * lr)"
   ]
  },
  {
   "cell_type": "code",
   "execution_count": 38,
   "id": "bc88d85b",
   "metadata": {
    "execution": {
     "iopub.execute_input": "2022-05-23T12:42:11.368017Z",
     "iopub.status.busy": "2022-05-23T12:42:11.367697Z",
     "iopub.status.idle": "2022-05-23T12:42:11.373402Z",
     "shell.execute_reply": "2022-05-23T12:42:11.372371Z"
    },
    "papermill": {
     "duration": 0.096034,
     "end_time": "2022-05-23T12:42:11.375601",
     "exception": false,
     "start_time": "2022-05-23T12:42:11.279567",
     "status": "completed"
    },
    "tags": []
   },
   "outputs": [],
   "source": [
    "def one_epoch(coeffs, lr):\n",
    "    loss = calc_loss(coeffs, trn_indep, trn_dep)\n",
    "    loss.backward()\n",
    "    with torch.no_grad(): update_coeffs(coeffs, lr)\n",
    "    print(f\"{loss:.3f}\", end=\"; \")"
   ]
  },
  {
   "cell_type": "code",
   "execution_count": 39,
   "id": "43eeb945",
   "metadata": {
    "execution": {
     "iopub.execute_input": "2022-05-23T12:42:11.553179Z",
     "iopub.status.busy": "2022-05-23T12:42:11.552813Z",
     "iopub.status.idle": "2022-05-23T12:42:11.557810Z",
     "shell.execute_reply": "2022-05-23T12:42:11.556788Z"
    },
    "papermill": {
     "duration": 0.097278,
     "end_time": "2022-05-23T12:42:11.560658",
     "exception": false,
     "start_time": "2022-05-23T12:42:11.463380",
     "status": "completed"
    },
    "tags": []
   },
   "outputs": [],
   "source": [
    "def init_coeffs(): return (torch.rand(n_coeff)-0.5).requires_grad_()"
   ]
  },
  {
   "cell_type": "code",
   "execution_count": 40,
   "id": "bd8af595",
   "metadata": {
    "execution": {
     "iopub.execute_input": "2022-05-23T12:42:11.734812Z",
     "iopub.status.busy": "2022-05-23T12:42:11.734118Z",
     "iopub.status.idle": "2022-05-23T12:42:11.739147Z",
     "shell.execute_reply": "2022-05-23T12:42:11.738433Z"
    },
    "papermill": {
     "duration": 0.094848,
     "end_time": "2022-05-23T12:42:11.741458",
     "exception": false,
     "start_time": "2022-05-23T12:42:11.646610",
     "status": "completed"
    },
    "tags": []
   },
   "outputs": [],
   "source": [
    "def train_model(epochs=30, lr=0.01):\n",
    "    torch.manual_seed(442)\n",
    "    coeffs = init_coeffs()\n",
    "    for i in range(epochs): one_epoch(coeffs, lr=lr)\n",
    "    return coeffs"
   ]
  },
  {
   "cell_type": "code",
   "execution_count": 41,
   "id": "8305ab68",
   "metadata": {
    "execution": {
     "iopub.execute_input": "2022-05-23T12:42:11.918052Z",
     "iopub.status.busy": "2022-05-23T12:42:11.917490Z",
     "iopub.status.idle": "2022-05-23T12:42:11.934565Z",
     "shell.execute_reply": "2022-05-23T12:42:11.933399Z"
    },
    "papermill": {
     "duration": 0.108651,
     "end_time": "2022-05-23T12:42:11.936869",
     "exception": false,
     "start_time": "2022-05-23T12:42:11.828218",
     "status": "completed"
    },
    "tags": []
   },
   "outputs": [
    {
     "name": "stdout",
     "output_type": "stream",
     "text": [
      "0.539; 0.535; 0.525; 0.511; 0.492; 0.468; 0.440; 0.413; 0.425; 0.428; 0.424; 0.408; 0.380; 0.348; 0.310; 0.300; 0.315; 0.339; "
     ]
    }
   ],
   "source": [
    "coeffs = train_model(18, lr=0.02)"
   ]
  },
  {
   "cell_type": "code",
   "execution_count": 42,
   "id": "5a02d3ae",
   "metadata": {
    "execution": {
     "iopub.execute_input": "2022-05-23T12:42:12.111732Z",
     "iopub.status.busy": "2022-05-23T12:42:12.111427Z",
     "iopub.status.idle": "2022-05-23T12:42:12.122706Z",
     "shell.execute_reply": "2022-05-23T12:42:12.121619Z"
    },
    "papermill": {
     "duration": 0.100828,
     "end_time": "2022-05-23T12:42:12.125230",
     "exception": false,
     "start_time": "2022-05-23T12:42:12.024402",
     "status": "completed"
    },
    "tags": []
   },
   "outputs": [
    {
     "data": {
      "text/plain": [
       "{'Age': tensor(-0.4612),\n",
       " 'SibSp': tensor(0.1381),\n",
       " 'Parch': tensor(0.2464),\n",
       " 'LogFare': tensor(-0.1710),\n",
       " 'Sex_male': tensor(-0.3652),\n",
       " 'Sex_female': tensor(0.2865),\n",
       " 'Pclass_1': tensor(0.8605),\n",
       " 'Pclass_2': tensor(0.3752),\n",
       " 'Pclass_3': tensor(0.3445),\n",
       " 'Embarked_C': tensor(0.1800),\n",
       " 'Embarked_Q': tensor(0.2307),\n",
       " 'Embarked_S': tensor(0.2222)}"
      ]
     },
     "execution_count": 42,
     "metadata": {},
     "output_type": "execute_result"
    }
   ],
   "source": [
    "def show_coeffs(): return dict(zip(indep_cols, coeffs.requires_grad_(False)))\n",
    "show_coeffs()"
   ]
  },
  {
   "cell_type": "code",
   "execution_count": 43,
   "id": "513ca21c",
   "metadata": {
    "execution": {
     "iopub.execute_input": "2022-05-23T12:42:12.306663Z",
     "iopub.status.busy": "2022-05-23T12:42:12.306348Z",
     "iopub.status.idle": "2022-05-23T12:42:12.311135Z",
     "shell.execute_reply": "2022-05-23T12:42:12.310060Z"
    },
    "papermill": {
     "duration": 0.097972,
     "end_time": "2022-05-23T12:42:12.313384",
     "exception": false,
     "start_time": "2022-05-23T12:42:12.215412",
     "status": "completed"
    },
    "tags": []
   },
   "outputs": [],
   "source": [
    "preds = calc_preds(coeffs, val_indep)"
   ]
  },
  {
   "cell_type": "code",
   "execution_count": 44,
   "id": "3ca3ab15",
   "metadata": {
    "execution": {
     "iopub.execute_input": "2022-05-23T12:42:12.489862Z",
     "iopub.status.busy": "2022-05-23T12:42:12.489564Z",
     "iopub.status.idle": "2022-05-23T12:42:12.496980Z",
     "shell.execute_reply": "2022-05-23T12:42:12.496107Z"
    },
    "papermill": {
     "duration": 0.097894,
     "end_time": "2022-05-23T12:42:12.499204",
     "exception": false,
     "start_time": "2022-05-23T12:42:12.401310",
     "status": "completed"
    },
    "tags": []
   },
   "outputs": [
    {
     "data": {
      "text/plain": [
       "tensor([ True,  True,  True,  True,  True,  True,  True,  True,  True,  True, False, False, False,  True,  True,  True])"
      ]
     },
     "execution_count": 44,
     "metadata": {},
     "output_type": "execute_result"
    }
   ],
   "source": [
    "results = val_dep.bool()==(preds>0.5)\n",
    "results[:16]"
   ]
  },
  {
   "cell_type": "code",
   "execution_count": 45,
   "id": "f18a44c4",
   "metadata": {
    "execution": {
     "iopub.execute_input": "2022-05-23T12:42:12.678226Z",
     "iopub.status.busy": "2022-05-23T12:42:12.677921Z",
     "iopub.status.idle": "2022-05-23T12:42:12.684833Z",
     "shell.execute_reply": "2022-05-23T12:42:12.683588Z"
    },
    "papermill": {
     "duration": 0.101293,
     "end_time": "2022-05-23T12:42:12.687332",
     "exception": false,
     "start_time": "2022-05-23T12:42:12.586039",
     "status": "completed"
    },
    "tags": []
   },
   "outputs": [
    {
     "data": {
      "text/plain": [
       "tensor(0.7753)"
      ]
     },
     "execution_count": 45,
     "metadata": {},
     "output_type": "execute_result"
    }
   ],
   "source": [
    "results.float().mean()"
   ]
  },
  {
   "cell_type": "code",
   "execution_count": 46,
   "id": "45c6c33c",
   "metadata": {
    "execution": {
     "iopub.execute_input": "2022-05-23T12:42:12.866665Z",
     "iopub.status.busy": "2022-05-23T12:42:12.866188Z",
     "iopub.status.idle": "2022-05-23T12:42:12.875185Z",
     "shell.execute_reply": "2022-05-23T12:42:12.874208Z"
    },
    "papermill": {
     "duration": 0.100458,
     "end_time": "2022-05-23T12:42:12.877419",
     "exception": false,
     "start_time": "2022-05-23T12:42:12.776961",
     "status": "completed"
    },
    "tags": []
   },
   "outputs": [
    {
     "data": {
      "text/plain": [
       "tensor(0.7753)"
      ]
     },
     "execution_count": 46,
     "metadata": {},
     "output_type": "execute_result"
    }
   ],
   "source": [
    "def acc(coeffs): return (val_dep.bool()==(calc_preds(coeffs, val_indep)>0.5)).float().mean()\n",
    "acc(coeffs)"
   ]
  },
  {
   "cell_type": "code",
   "execution_count": 47,
   "id": "6c8823a2",
   "metadata": {
    "execution": {
     "iopub.execute_input": "2022-05-23T12:42:13.064225Z",
     "iopub.status.busy": "2022-05-23T12:42:13.063084Z",
     "iopub.status.idle": "2022-05-23T12:42:13.070773Z",
     "shell.execute_reply": "2022-05-23T12:42:13.069954Z"
    },
    "papermill": {
     "duration": 0.103912,
     "end_time": "2022-05-23T12:42:13.073137",
     "exception": false,
     "start_time": "2022-05-23T12:42:12.969225",
     "status": "completed"
    },
    "tags": []
   },
   "outputs": [
    {
     "data": {
      "text/plain": [
       "tensor([0.8793, 0.1987, 0.1483, 0.2120, 0.2188, 0.2184, 0.8058, 0.8703, 0.2089, 0.8044, 0.1896, 0.1543, 0.1993, 0.8504, 0.1902, 0.6997,\n",
       "        0.6983, 0.8745, 0.2149, 0.8411, 0.1902, 0.6989, 1.3124, 0.8779, 0.1909, 0.1962, 0.8512, 0.6985])"
      ]
     },
     "execution_count": 47,
     "metadata": {},
     "output_type": "execute_result"
    }
   ],
   "source": [
    "preds[:28]"
   ]
  },
  {
   "cell_type": "code",
   "execution_count": 48,
   "id": "e1e9a25e",
   "metadata": {
    "execution": {
     "iopub.execute_input": "2022-05-23T12:42:13.249031Z",
     "iopub.status.busy": "2022-05-23T12:42:13.248573Z",
     "iopub.status.idle": "2022-05-23T12:42:14.669366Z",
     "shell.execute_reply": "2022-05-23T12:42:14.668354Z"
    },
    "papermill": {
     "duration": 1.512297,
     "end_time": "2022-05-23T12:42:14.671676",
     "exception": false,
     "start_time": "2022-05-23T12:42:13.159379",
     "status": "completed"
    },
    "tags": []
   },
   "outputs": [
    {
     "data": {
      "image/png": "[encoded data removed]",
      "text/plain": [
       "<Figure size 432x288 with 1 Axes>"
      ]
     },
     "metadata": {
      "needs_background": "light"
     },
     "output_type": "display_data"
    }
   ],
   "source": [
    "import sympy\n",
    "sympy.plot(\"1/(1+exp(-x))\", xlim=(-5,5));"
   ]
  },
  {
   "cell_type": "code",
   "execution_count": 49,
   "id": "a913f008",
   "metadata": {
    "execution": {
     "iopub.execute_input": "2022-05-23T12:42:14.855573Z",
     "iopub.status.busy": "2022-05-23T12:42:14.854952Z",
     "iopub.status.idle": "2022-05-23T12:42:14.859230Z",
     "shell.execute_reply": "2022-05-23T12:42:14.858565Z"
    },
    "papermill": {
     "duration": 0.097542,
     "end_time": "2022-05-23T12:42:14.861334",
     "exception": false,
     "start_time": "2022-05-23T12:42:14.763792",
     "status": "completed"
    },
    "tags": []
   },
   "outputs": [],
   "source": [
    "def calc_preds(coeffs, indeps): return torch.sigmoid((indeps*coeffs).sum(axis=1))"
   ]
  },
  {
   "cell_type": "code",
   "execution_count": 50,
   "id": "7e035cff",
   "metadata": {
    "execution": {
     "iopub.execute_input": "2022-05-23T12:42:15.040686Z",
     "iopub.status.busy": "2022-05-23T12:42:15.040187Z",
     "iopub.status.idle": "2022-05-23T12:42:15.064125Z",
     "shell.execute_reply": "2022-05-23T12:42:15.063244Z"
    },
    "papermill": {
     "duration": 0.115495,
     "end_time": "2022-05-23T12:42:15.066310",
     "exception": false,
     "start_time": "2022-05-23T12:42:14.950815",
     "status": "completed"
    },
    "tags": []
   },
   "outputs": [
    {
     "name": "stdout",
     "output_type": "stream",
     "text": [
      "0.524; 0.484; 0.409; 0.336; 0.296; 0.273; 0.256; 0.242; 0.229; 0.219; 0.212; 0.207; 0.204; 0.202; 0.200; 0.199; 0.199; 0.199; 0.198; 0.198; 0.198; 0.198; 0.198; 0.198; 0.197; 0.197; 0.197; 0.196; 0.196; 0.195; "
     ]
    }
   ],
   "source": [
    "coeffs = train_model(lr=2)"
   ]
  },
  {
   "cell_type": "code",
   "execution_count": 51,
   "id": "2c7df836",
   "metadata": {
    "execution": {
     "iopub.execute_input": "2022-05-23T12:42:15.243015Z",
     "iopub.status.busy": "2022-05-23T12:42:15.242676Z",
     "iopub.status.idle": "2022-05-23T12:42:15.249923Z",
     "shell.execute_reply": "2022-05-23T12:42:15.249222Z"
    },
    "papermill": {
     "duration": 0.098384,
     "end_time": "2022-05-23T12:42:15.251962",
     "exception": false,
     "start_time": "2022-05-23T12:42:15.153578",
     "status": "completed"
    },
    "tags": []
   },
   "outputs": [
    {
     "data": {
      "text/plain": [
       "tensor(0.8258)"
      ]
     },
     "execution_count": 51,
     "metadata": {},
     "output_type": "execute_result"
    }
   ],
   "source": [
    "acc(coeffs)"
   ]
  },
  {
   "cell_type": "code",
   "execution_count": 52,
   "id": "7864aeae",
   "metadata": {
    "execution": {
     "iopub.execute_input": "2022-05-23T12:42:15.443583Z",
     "iopub.status.busy": "2022-05-23T12:42:15.442957Z",
     "iopub.status.idle": "2022-05-23T12:42:15.453279Z",
     "shell.execute_reply": "2022-05-23T12:42:15.452355Z"
    },
    "papermill": {
     "duration": 0.107008,
     "end_time": "2022-05-23T12:42:15.455859",
     "exception": false,
     "start_time": "2022-05-23T12:42:15.348851",
     "status": "completed"
    },
    "tags": []
   },
   "outputs": [
    {
     "data": {
      "text/plain": [
       "{'Age': tensor(-0.4880),\n",
       " 'SibSp': tensor(-0.0022),\n",
       " 'Parch': tensor(0.2237),\n",
       " 'LogFare': tensor(0.0344),\n",
       " 'Sex_male': tensor(-20.6623),\n",
       " 'Sex_female': tensor(17.1042),\n",
       " 'Pclass_1': tensor(6.8089),\n",
       " 'Pclass_2': tensor(3.8157),\n",
       " 'Pclass_3': tensor(-12.5237),\n",
       " 'Embarked_C': tensor(2.6862),\n",
       " 'Embarked_Q': tensor(1.0984),\n",
       " 'Embarked_S': tensor(-6.6311)}"
      ]
     },
     "execution_count": 52,
     "metadata": {},
     "output_type": "execute_result"
    }
   ],
   "source": [
    "show_coeffs()"
   ]
  },
  {
   "cell_type": "code",
   "execution_count": 53,
   "id": "2401fa3a",
   "metadata": {
    "execution": {
     "iopub.execute_input": "2022-05-23T12:42:15.643883Z",
     "iopub.status.busy": "2022-05-23T12:42:15.643288Z",
     "iopub.status.idle": "2022-05-23T12:42:15.658446Z",
     "shell.execute_reply": "2022-05-23T12:42:15.657559Z"
    },
    "papermill": {
     "duration": 0.110254,
     "end_time": "2022-05-23T12:42:15.660751",
     "exception": false,
     "start_time": "2022-05-23T12:42:15.550497",
     "status": "completed"
    },
    "tags": []
   },
   "outputs": [],
   "source": [
    "tst_df = pd.read_csv(path/'test.csv')"
   ]
  },
  {
   "cell_type": "code",
   "execution_count": 54,
   "id": "d58c007a",
   "metadata": {
    "execution": {
     "iopub.execute_input": "2022-05-23T12:42:15.848506Z",
     "iopub.status.busy": "2022-05-23T12:42:15.847905Z",
     "iopub.status.idle": "2022-05-23T12:42:15.853825Z",
     "shell.execute_reply": "2022-05-23T12:42:15.853097Z"
    },
    "papermill": {
     "duration": 0.106471,
     "end_time": "2022-05-23T12:42:15.856302",
     "exception": false,
     "start_time": "2022-05-23T12:42:15.749831",
     "status": "completed"
    },
    "tags": []
   },
   "outputs": [],
   "source": [
    "tst_df['Fare'] = tst_df.Fare.fillna(0)"
   ]
  },
  {
   "cell_type": "code",
   "execution_count": 55,
   "id": "576aa123",
   "metadata": {
    "execution": {
     "iopub.execute_input": "2022-05-23T12:42:16.040040Z",
     "iopub.status.busy": "2022-05-23T12:42:16.039686Z",
     "iopub.status.idle": "2022-05-23T12:42:16.059830Z",
     "shell.execute_reply": "2022-05-23T12:42:16.059082Z"
    },
    "papermill": {
     "duration": 0.116474,
     "end_time": "2022-05-23T12:42:16.062501",
     "exception": false,
     "start_time": "2022-05-23T12:42:15.946027",
     "status": "completed"
    },
    "tags": []
   },
   "outputs": [],
   "source": [
    "tst_df.fillna(modes, inplace=True)\n",
    "tst_df['LogFare'] = np.log(tst_df['Fare']+1)\n",
    "tst_df = pd.get_dummies(tst_df, columns=[\"Sex\",\"Pclass\",\"Embarked\"])\n",
    "\n",
    "tst_indep = tensor(tst_df[indep_cols].values, dtype=torch.float)\n",
    "tst_indep = tst_indep / vals"
   ]
  },
  {
   "cell_type": "code",
   "execution_count": 56,
   "id": "26583009",
   "metadata": {
    "execution": {
     "iopub.execute_input": "2022-05-23T12:42:16.254552Z",
     "iopub.status.busy": "2022-05-23T12:42:16.253945Z",
     "iopub.status.idle": "2022-05-23T12:42:16.259838Z",
     "shell.execute_reply": "2022-05-23T12:42:16.259139Z"
    },
    "papermill": {
     "duration": 0.10142,
     "end_time": "2022-05-23T12:42:16.262199",
     "exception": false,
     "start_time": "2022-05-23T12:42:16.160779",
     "status": "completed"
    },
    "tags": []
   },
   "outputs": [],
   "source": [
    "tst_df['Survived'] = (calc_preds(tst_indep, coeffs)>0.5).int()"
   ]
  },
  {
   "cell_type": "code",
   "execution_count": 57,
   "id": "d996a80a",
   "metadata": {
    "execution": {
     "iopub.execute_input": "2022-05-23T12:42:16.448241Z",
     "iopub.status.busy": "2022-05-23T12:42:16.447605Z",
     "iopub.status.idle": "2022-05-23T12:42:16.459763Z",
     "shell.execute_reply": "2022-05-23T12:42:16.458969Z"
    },
    "papermill": {
     "duration": 0.109744,
     "end_time": "2022-05-23T12:42:16.462199",
     "exception": false,
     "start_time": "2022-05-23T12:42:16.352455",
     "status": "completed"
    },
    "tags": []
   },
   "outputs": [],
   "source": [
    "sub_df = tst_df[['PassengerId','Survived']]\n",
    "sub_df.to_csv('sub.csv', index=False)"
   ]
  },
  {
   "cell_type": "code",
   "execution_count": 58,
   "id": "062aa22e",
   "metadata": {
    "execution": {
     "iopub.execute_input": "2022-05-23T12:42:16.648754Z",
     "iopub.status.busy": "2022-05-23T12:42:16.648128Z",
     "iopub.status.idle": "2022-05-23T12:42:17.417044Z",
     "shell.execute_reply": "2022-05-23T12:42:17.416143Z"
    },
    "papermill": {
     "duration": 0.864406,
     "end_time": "2022-05-23T12:42:17.419534",
     "exception": false,
     "start_time": "2022-05-23T12:42:16.555128",
     "status": "completed"
    },
    "tags": []
   },
   "outputs": [
    {
     "name": "stdout",
     "output_type": "stream",
     "text": [
      "PassengerId,Survived\r\n",
      "892,0\r\n",
      "893,0\r\n",
      "894,0\r\n",
      "895,0\r\n",
      "896,0\r\n",
      "897,0\r\n",
      "898,1\r\n",
      "899,0\r\n",
      "900,1\r\n"
     ]
    }
   ],
   "source": [
    "!head sub.csv"
   ]
  },
  {
   "cell_type": "code",
   "execution_count": 59,
   "id": "2d432b26",
   "metadata": {
    "execution": {
     "iopub.execute_input": "2022-05-23T12:42:17.603667Z",
     "iopub.status.busy": "2022-05-23T12:42:17.603339Z",
     "iopub.status.idle": "2022-05-23T12:42:17.613885Z",
     "shell.execute_reply": "2022-05-23T12:42:17.613056Z"
    },
    "papermill": {
     "duration": 0.103458,
     "end_time": "2022-05-23T12:42:17.616086",
     "exception": false,
     "start_time": "2022-05-23T12:42:17.512628",
     "status": "completed"
    },
    "tags": []
   },
   "outputs": [
    {
     "data": {
      "text/plain": [
       "tensor([ 22.0189, -32.0876, -30.4998, -23.4752, -23.4772, -23.4775,   7.2750,  14.2891, -39.8015,   7.2738, -39.8176, -30.4930, -39.8090,\n",
       "          5.6790, -39.8179, -20.4850, -20.4865,  14.2961, -23.4777,  -2.0509, -39.8170, -20.4858,  26.6067,  14.3014, -39.8168, -32.0867,\n",
       "         -2.0422, -20.4863, -39.8164,   5.6790,  14.3023,  -2.0361, -39.8166, -39.8175,  22.0184,  -2.0353, -20.4849,  26.6013, -39.8170,\n",
       "         -2.0506, -23.4769, -39.8170, -23.4651,  26.6008, -39.8167,  -2.0193, -39.8155, -39.8158, -32.0876,  -2.0504, -12.7544, -39.8021,\n",
       "        -39.8024, -39.8172, -23.4775, -23.4779, -32.0876, -39.8174, -39.8168, -39.8168, -11.1665, -39.8166, -20.4875, -39.8168,  14.2884,\n",
       "        -20.4760, -23.4771, -39.8172, -32.0820,  14.2879, -39.8172,   7.2798, -23.4779, -39.8169, -20.4834, -39.8164, -39.8170, -20.4834,\n",
       "        -23.4768, -23.4788, -23.4683,  26.6151, -39.8169, -39.8171,  14.2873, -14.1466, -11.1645,  17.2977,  23.6069, -23.4771, -39.8176,\n",
       "        -39.8170,  26.6012, -30.5003,   7.2755, -14.1608, -23.4782,   5.6798,   5.6792, -32.0873, -39.8104,   5.6790, -39.8176, -39.8175,\n",
       "        -20.4833, -23.4785, -39.8173,  14.2953, -11.1651, -39.8175,  14.3017,  -2.0503, -20.4833,  25.0130, -39.8170,  26.5986,  -2.0325,\n",
       "        -32.0876, -39.8184,  26.6066, -39.8090, -11.1617, -32.0876,  -2.0356, -30.4998, -20.4836,  -2.0505,  -2.0506, -39.8163, -23.4781,\n",
       "         17.2848, -39.8165,  14.2891,  14.2888,  26.6019, -39.8166, -23.4798, -39.8173, -14.1599,  14.2890, -23.4776,  26.5992, -39.8187,\n",
       "        -32.0882,  -2.0434,  17.2811, -39.8180,   7.2801,  17.2904,   7.2719,  -2.0494,   5.6914,  14.2895, -32.0792, -32.0867, -39.8030,\n",
       "        -39.8170,  -2.0500, -23.4779, -39.8165,  26.6010, -14.1597, -39.8163, -20.4706,  26.6002,  17.2898,  14.2962,  14.2881, -20.4596,\n",
       "        -20.4856,  -2.0354, -39.8161,  17.2841, -39.8169, -39.8185,  17.2956, -20.4832, -39.8091])"
      ]
     },
     "execution_count": 59,
     "metadata": {},
     "output_type": "execute_result"
    }
   ],
   "source": [
    "(val_indep*coeffs).sum(axis=1)"
   ]
  },
  {
   "cell_type": "code",
   "execution_count": 60,
   "id": "741e2088",
   "metadata": {
    "execution": {
     "iopub.execute_input": "2022-05-23T12:42:17.800062Z",
     "iopub.status.busy": "2022-05-23T12:42:17.799456Z",
     "iopub.status.idle": "2022-05-23T12:42:17.815298Z",
     "shell.execute_reply": "2022-05-23T12:42:17.814369Z"
    },
    "papermill": {
     "duration": 0.111535,
     "end_time": "2022-05-23T12:42:17.817500",
     "exception": false,
     "start_time": "2022-05-23T12:42:17.705965",
     "status": "completed"
    },
    "tags": []
   },
   "outputs": [
    {
     "data": {
      "text/plain": [
       "tensor([ 22.0189, -32.0876, -30.4998, -23.4752, -23.4772, -23.4775,   7.2750,  14.2891, -39.8015,   7.2738, -39.8176, -30.4930, -39.8090,\n",
       "          5.6790, -39.8179, -20.4850, -20.4865,  14.2961, -23.4777,  -2.0509, -39.8170, -20.4858,  26.6067,  14.3014, -39.8168, -32.0867,\n",
       "         -2.0422, -20.4863, -39.8164,   5.6790,  14.3023,  -2.0361, -39.8166, -39.8175,  22.0184,  -2.0353, -20.4849,  26.6013, -39.8170,\n",
       "         -2.0506, -23.4769, -39.8170, -23.4651,  26.6008, -39.8167,  -2.0193, -39.8155, -39.8158, -32.0876,  -2.0504, -12.7544, -39.8021,\n",
       "        -39.8024, -39.8172, -23.4775, -23.4779, -32.0876, -39.8174, -39.8168, -39.8168, -11.1665, -39.8166, -20.4875, -39.8168,  14.2884,\n",
       "        -20.4760, -23.4771, -39.8172, -32.0820,  14.2879, -39.8172,   7.2798, -23.4779, -39.8169, -20.4834, -39.8164, -39.8170, -20.4834,\n",
       "        -23.4768, -23.4788, -23.4683,  26.6151, -39.8169, -39.8171,  14.2873, -14.1466, -11.1645,  17.2977,  23.6069, -23.4771, -39.8176,\n",
       "        -39.8170,  26.6012, -30.5003,   7.2755, -14.1608, -23.4782,   5.6798,   5.6792, -32.0873, -39.8104,   5.6790, -39.8176, -39.8175,\n",
       "        -20.4833, -23.4785, -39.8173,  14.2953, -11.1651, -39.8175,  14.3017,  -2.0503, -20.4832,  25.0130, -39.8170,  26.5986,  -2.0325,\n",
       "        -32.0876, -39.8184,  26.6066, -39.8090, -11.1617, -32.0876,  -2.0356, -30.4998, -20.4836,  -2.0505,  -2.0506, -39.8163, -23.4781,\n",
       "         17.2848, -39.8165,  14.2891,  14.2888,  26.6019, -39.8166, -23.4798, -39.8173, -14.1599,  14.2890, -23.4776,  26.5992, -39.8187,\n",
       "        -32.0882,  -2.0434,  17.2811, -39.8180,   7.2801,  17.2904,   7.2719,  -2.0494,   5.6914,  14.2895, -32.0792, -32.0867, -39.8030,\n",
       "        -39.8170,  -2.0500, -23.4779, -39.8165,  26.6010, -14.1597, -39.8163, -20.4706,  26.6002,  17.2898,  14.2962,  14.2881, -20.4596,\n",
       "        -20.4856,  -2.0354, -39.8161,  17.2841, -39.8169, -39.8185,  17.2956, -20.4832, -39.8091])"
      ]
     },
     "execution_count": 60,
     "metadata": {},
     "output_type": "execute_result"
    }
   ],
   "source": [
    "val_indep@coeffs"
   ]
  },
  {
   "cell_type": "code",
   "execution_count": 61,
   "id": "259767c6",
   "metadata": {
    "execution": {
     "iopub.execute_input": "2022-05-23T12:42:18.004047Z",
     "iopub.status.busy": "2022-05-23T12:42:18.003435Z",
     "iopub.status.idle": "2022-05-23T12:42:18.008424Z",
     "shell.execute_reply": "2022-05-23T12:42:18.007601Z"
    },
    "papermill": {
     "duration": 0.103094,
     "end_time": "2022-05-23T12:42:18.010669",
     "exception": false,
     "start_time": "2022-05-23T12:42:17.907575",
     "status": "completed"
    },
    "tags": []
   },
   "outputs": [],
   "source": [
    "def calc_preds(coeffs, indeps): return torch.sigmoid(indeps@coeffs)"
   ]
  },
  {
   "cell_type": "code",
   "execution_count": 62,
   "id": "f3115f68",
   "metadata": {
    "execution": {
     "iopub.execute_input": "2022-05-23T12:42:18.195182Z",
     "iopub.status.busy": "2022-05-23T12:42:18.194839Z",
     "iopub.status.idle": "2022-05-23T12:42:18.200467Z",
     "shell.execute_reply": "2022-05-23T12:42:18.199504Z"
    },
    "papermill": {
     "duration": 0.1006,
     "end_time": "2022-05-23T12:42:18.202899",
     "exception": false,
     "start_time": "2022-05-23T12:42:18.102299",
     "status": "completed"
    },
    "tags": []
   },
   "outputs": [],
   "source": [
    "def init_coeffs(): return (torch.rand(n_coeff, 1)*0.1).requires_grad_()"
   ]
  },
  {
   "cell_type": "code",
   "execution_count": 63,
   "id": "a058d8b4",
   "metadata": {
    "execution": {
     "iopub.execute_input": "2022-05-23T12:42:18.387665Z",
     "iopub.status.busy": "2022-05-23T12:42:18.387028Z",
     "iopub.status.idle": "2022-05-23T12:42:18.391870Z",
     "shell.execute_reply": "2022-05-23T12:42:18.391193Z"
    },
    "papermill": {
     "duration": 0.100473,
     "end_time": "2022-05-23T12:42:18.394076",
     "exception": false,
     "start_time": "2022-05-23T12:42:18.293603",
     "status": "completed"
    },
    "tags": []
   },
   "outputs": [],
   "source": [
    "trn_dep = trn_dep[:,None]\n",
    "val_dep = val_dep[:,None]"
   ]
  },
  {
   "cell_type": "code",
   "execution_count": 64,
   "id": "859b5424",
   "metadata": {
    "execution": {
     "iopub.execute_input": "2022-05-23T12:42:18.583441Z",
     "iopub.status.busy": "2022-05-23T12:42:18.582821Z",
     "iopub.status.idle": "2022-05-23T12:42:18.609036Z",
     "shell.execute_reply": "2022-05-23T12:42:18.607950Z"
    },
    "papermill": {
     "duration": 0.124279,
     "end_time": "2022-05-23T12:42:18.611339",
     "exception": false,
     "start_time": "2022-05-23T12:42:18.487060",
     "status": "completed"
    },
    "tags": []
   },
   "outputs": [
    {
     "name": "stdout",
     "output_type": "stream",
     "text": [
      "0.512; 0.470; 0.397; 0.330; 0.293; 0.272; 0.256; 0.241; 0.228; 0.218; 0.211; 0.206; 0.204; 0.202; 0.201; 0.200; 0.200; 0.200; 0.200; 0.200; 0.200; 0.199; 0.199; 0.199; 0.198; 0.198; 0.197; 0.197; 0.196; 0.196; "
     ]
    }
   ],
   "source": [
    "coeffs = train_model(lr=2)"
   ]
  },
  {
   "cell_type": "code",
   "execution_count": 65,
   "id": "79a13834",
   "metadata": {
    "execution": {
     "iopub.execute_input": "2022-05-23T12:42:18.799264Z",
     "iopub.status.busy": "2022-05-23T12:42:18.798931Z",
     "iopub.status.idle": "2022-05-23T12:42:18.806536Z",
     "shell.execute_reply": "2022-05-23T12:42:18.805772Z"
    },
    "papermill": {
     "duration": 0.104297,
     "end_time": "2022-05-23T12:42:18.808607",
     "exception": false,
     "start_time": "2022-05-23T12:42:18.704310",
     "status": "completed"
    },
    "tags": []
   },
   "outputs": [
    {
     "data": {
      "text/plain": [
       "tensor(0.8258)"
      ]
     },
     "execution_count": 65,
     "metadata": {},
     "output_type": "execute_result"
    }
   ],
   "source": [
    "acc(coeffs)"
   ]
  },
  {
   "cell_type": "code",
   "execution_count": 66,
   "id": "613df081",
   "metadata": {
    "execution": {
     "iopub.execute_input": "2022-05-23T12:42:18.996616Z",
     "iopub.status.busy": "2022-05-23T12:42:18.995984Z",
     "iopub.status.idle": "2022-05-23T12:42:19.002515Z",
     "shell.execute_reply": "2022-05-23T12:42:19.001802Z"
    },
    "papermill": {
     "duration": 0.104192,
     "end_time": "2022-05-23T12:42:19.004740",
     "exception": false,
     "start_time": "2022-05-23T12:42:18.900548",
     "status": "completed"
    },
    "tags": []
   },
   "outputs": [],
   "source": [
    "def init_coeffs(n_hidden=20):\n",
    "    layer1 = (torch.rand(n_coeff, n_hidden)-0.5)/n_hidden\n",
    "    layer2 = torch.rand(n_hidden, 1)-0.3\n",
    "    const = torch.rand(1)[0]\n",
    "    return layer1.requires_grad_(),layer2.requires_grad_(),const.requires_grad_()"
   ]
  },
  {
   "cell_type": "code",
   "execution_count": 67,
   "id": "70d1a28a",
   "metadata": {
    "execution": {
     "iopub.execute_input": "2022-05-23T12:42:19.195652Z",
     "iopub.status.busy": "2022-05-23T12:42:19.195049Z",
     "iopub.status.idle": "2022-05-23T12:42:19.200833Z",
     "shell.execute_reply": "2022-05-23T12:42:19.200132Z"
    },
    "papermill": {
     "duration": 0.103188,
     "end_time": "2022-05-23T12:42:19.203065",
     "exception": false,
     "start_time": "2022-05-23T12:42:19.099877",
     "status": "completed"
    },
    "tags": []
   },
   "outputs": [],
   "source": [
    "import torch.nn.functional as F\n",
    "\n",
    "def calc_preds(coeffs, indeps):\n",
    "    l1,l2,const = coeffs\n",
    "    res = F.relu(indeps@l1)\n",
    "    res = res@l2 + const\n",
    "    return torch.sigmoid(res)"
   ]
  },
  {
   "cell_type": "code",
   "execution_count": 68,
   "id": "a996e144",
   "metadata": {
    "execution": {
     "iopub.execute_input": "2022-05-23T12:42:19.390792Z",
     "iopub.status.busy": "2022-05-23T12:42:19.390349Z",
     "iopub.status.idle": "2022-05-23T12:42:19.394956Z",
     "shell.execute_reply": "2022-05-23T12:42:19.394038Z"
    },
    "papermill": {
     "duration": 0.10086,
     "end_time": "2022-05-23T12:42:19.397139",
     "exception": false,
     "start_time": "2022-05-23T12:42:19.296279",
     "status": "completed"
    },
    "tags": []
   },
   "outputs": [],
   "source": [
    "def update_coeffs(coeffs, lr):\n",
    "    for layer in coeffs: layer.sub_(layer.grad * lr)"
   ]
  },
  {
   "cell_type": "code",
   "execution_count": 69,
   "id": "841a760f",
   "metadata": {
    "execution": {
     "iopub.execute_input": "2022-05-23T12:42:19.584835Z",
     "iopub.status.busy": "2022-05-23T12:42:19.584326Z",
     "iopub.status.idle": "2022-05-23T12:42:19.629029Z",
     "shell.execute_reply": "2022-05-23T12:42:19.628286Z"
    },
    "papermill": {
     "duration": 0.141062,
     "end_time": "2022-05-23T12:42:19.631161",
     "exception": false,
     "start_time": "2022-05-23T12:42:19.490099",
     "status": "completed"
    },
    "tags": []
   },
   "outputs": [
    {
     "name": "stdout",
     "output_type": "stream",
     "text": [
      "0.544; 0.533; 0.512; 0.473; 0.409; 0.325; 0.266; 0.234; 0.214; 0.205; 0.203; 0.203; 0.201; 0.196; 0.193; 0.192; 0.192; 0.192; 0.192; 0.192; 0.192; 0.192; 0.192; 0.192; 0.192; 0.192; 0.192; 0.192; 0.192; 0.192; "
     ]
    }
   ],
   "source": [
    "coeffs = train_model(lr=1.4)"
   ]
  },
  {
   "cell_type": "code",
   "execution_count": 70,
   "id": "a86c41c6",
   "metadata": {
    "execution": {
     "iopub.execute_input": "2022-05-23T12:42:19.822476Z",
     "iopub.status.busy": "2022-05-23T12:42:19.822176Z",
     "iopub.status.idle": "2022-05-23T12:42:19.829577Z",
     "shell.execute_reply": "2022-05-23T12:42:19.828922Z"
    },
    "papermill": {
     "duration": 0.105693,
     "end_time": "2022-05-23T12:42:19.831571",
     "exception": false,
     "start_time": "2022-05-23T12:42:19.725878",
     "status": "completed"
    },
    "tags": []
   },
   "outputs": [
    {
     "data": {
      "text/plain": [
       "tensor(0.8258)"
      ]
     },
     "execution_count": 70,
     "metadata": {},
     "output_type": "execute_result"
    }
   ],
   "source": [
    "acc(coeffs)"
   ]
  },
  {
   "cell_type": "code",
   "execution_count": 71,
   "id": "8ab3a0e1",
   "metadata": {
    "execution": {
     "iopub.execute_input": "2022-05-23T12:42:20.019091Z",
     "iopub.status.busy": "2022-05-23T12:42:20.018582Z",
     "iopub.status.idle": "2022-05-23T12:42:20.025426Z",
     "shell.execute_reply": "2022-05-23T12:42:20.024396Z"
    },
    "papermill": {
     "duration": 0.10332,
     "end_time": "2022-05-23T12:42:20.027753",
     "exception": false,
     "start_time": "2022-05-23T12:42:19.924433",
     "status": "completed"
    },
    "tags": []
   },
   "outputs": [],
   "source": [
    "def init_coeffs():\n",
    "    hiddens = [10, 10]  # <-- set this to the size of each hidden layer you want\n",
    "    sizes = [n_coeff] + hiddens + [1]\n",
    "    n = len(sizes)\n",
    "    layers = [(torch.rand(sizes[i], sizes[i+1])-0.3)/sizes[i+1]*4 for i in range(n-1)]\n",
    "    consts = [(torch.rand(1)[0]-0.5)*0.1 for i in range(n-1)]\n",
    "    for l in layers+consts: l.requires_grad_()\n",
    "    return layers,consts"
   ]
  },
  {
   "cell_type": "code",
   "execution_count": 72,
   "id": "3416feed",
   "metadata": {
    "execution": {
     "iopub.execute_input": "2022-05-23T12:42:20.243646Z",
     "iopub.status.busy": "2022-05-23T12:42:20.243123Z",
     "iopub.status.idle": "2022-05-23T12:42:20.249289Z",
     "shell.execute_reply": "2022-05-23T12:42:20.248478Z"
    },
    "papermill": {
     "duration": 0.118621,
     "end_time": "2022-05-23T12:42:20.251869",
     "exception": false,
     "start_time": "2022-05-23T12:42:20.133248",
     "status": "completed"
    },
    "tags": []
   },
   "outputs": [],
   "source": [
    "import torch.nn.functional as F\n",
    "\n",
    "def calc_preds(coeffs, indeps):\n",
    "    layers,consts = coeffs\n",
    "    n = len(layers)\n",
    "    res = indeps\n",
    "    for i,l in enumerate(layers):\n",
    "        res = res@l + consts[i]\n",
    "        if i!=n-1: res = F.relu(res)\n",
    "    return torch.sigmoid(res)"
   ]
  },
  {
   "cell_type": "code",
   "execution_count": 73,
   "id": "8ce2ad1d",
   "metadata": {
    "execution": {
     "iopub.execute_input": "2022-05-23T12:42:20.449133Z",
     "iopub.status.busy": "2022-05-23T12:42:20.448815Z",
     "iopub.status.idle": "2022-05-23T12:42:20.453389Z",
     "shell.execute_reply": "2022-05-23T12:42:20.452446Z"
    },
    "papermill": {
     "duration": 0.104949,
     "end_time": "2022-05-23T12:42:20.455643",
     "exception": false,
     "start_time": "2022-05-23T12:42:20.350694",
     "status": "completed"
    },
    "tags": []
   },
   "outputs": [],
   "source": [
    "def update_coeffs(coeffs, lr):\n",
    "    layers,consts = coeffs\n",
    "    for layer in layers+consts: layer.sub_(layer.grad * lr)"
   ]
  },
  {
   "cell_type": "code",
   "execution_count": 74,
   "id": "5866c6ac",
   "metadata": {
    "execution": {
     "iopub.execute_input": "2022-05-23T12:42:20.647477Z",
     "iopub.status.busy": "2022-05-23T12:42:20.647144Z",
     "iopub.status.idle": "2022-05-23T12:42:20.683535Z",
     "shell.execute_reply": "2022-05-23T12:42:20.682357Z"
    },
    "papermill": {
     "duration": 0.136332,
     "end_time": "2022-05-23T12:42:20.685899",
     "exception": false,
     "start_time": "2022-05-23T12:42:20.549567",
     "status": "completed"
    },
    "tags": []
   },
   "outputs": [
    {
     "name": "stdout",
     "output_type": "stream",
     "text": [
      "0.526; 0.467; 0.371; 0.360; 0.318; 0.218; 0.232; 0.235; 0.228; 0.226; 0.225; 0.215; 0.215; 0.215; 0.215; 0.215; 0.215; 0.215; 0.215; 0.215; 0.215; 0.215; 0.215; 0.215; 0.215; 0.215; 0.215; 0.215; 0.215; 0.214; "
     ]
    }
   ],
   "source": [
    "coeffs = train_model(lr=1.4)"
   ]
  },
  {
   "cell_type": "code",
   "execution_count": 75,
   "id": "e4e5ba43",
   "metadata": {
    "execution": {
     "iopub.execute_input": "2022-05-23T12:42:20.875894Z",
     "iopub.status.busy": "2022-05-23T12:42:20.875426Z",
     "iopub.status.idle": "2022-05-23T12:42:20.882818Z",
     "shell.execute_reply": "2022-05-23T12:42:20.881880Z"
    },
    "papermill": {
     "duration": 0.105266,
     "end_time": "2022-05-23T12:42:20.884955",
     "exception": false,
     "start_time": "2022-05-23T12:42:20.779689",
     "status": "completed"
    },
    "tags": []
   },
   "outputs": [
    {
     "data": {
      "text/plain": [
       "tensor(0.8258)"
      ]
     },
     "execution_count": 75,
     "metadata": {},
     "output_type": "execute_result"
    }
   ],
   "source": [
    "acc(coeffs)"
   ]
  }
 ],
 "metadata": {
  "kernelspec": {
   "display_name": "Python 3",
   "language": "python",
   "name": "python3"
  },
  "language_info": {
   "codemirror_mode": {
    "name": "ipython",
    "version": 3
   },
   "file_extension": ".py",
   "mimetype": "text/x-python",
   "name": "python",
   "nbconvert_exporter": "python",
   "pygments_lexer": "ipython3",
   "version": "3.7.12"
  },
  "papermill": {
   "default_parameters": {},
   "duration": 32.658266,
   "end_time": "2022-05-23T12:42:22.103328",
   "environment_variables": {},
   "exception": null,
   "input_path": "__notebook__.ipynb",
   "output_path": "__notebook__.ipynb",
   "parameters": {},
   "start_time": "2022-05-23T12:41:49.445062",
   "version": "2.3.4"
  }
 },
 "nbformat": 4,
 "nbformat_minor": 5
}
